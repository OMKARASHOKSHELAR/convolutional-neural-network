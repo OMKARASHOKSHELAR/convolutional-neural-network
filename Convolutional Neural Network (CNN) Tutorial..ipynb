{
 "cells": [
  {
   "cell_type": "code",
   "execution_count": 2,
   "id": "5b82eb98",
   "metadata": {},
   "outputs": [],
   "source": [
    "import pandas as pd\n",
    "import numpy as np\n",
    "import seaborn as sns\n",
    "import matplotlib.pyplot as plt"
   ]
  },
  {
   "cell_type": "code",
   "execution_count": 3,
   "id": "8a43ccb5",
   "metadata": {},
   "outputs": [],
   "source": [
    "train = pd.read_csv(r\"C:\\Users\\omkar\\OneDrive\\Documents\\Python Files jupyternotebook\\CNN Project C.V\\Digit Recognizer_train.csv\")"
   ]
  },
  {
   "cell_type": "code",
   "execution_count": 4,
   "id": "c21ce1e3",
   "metadata": {},
   "outputs": [
    {
     "name": "stdout",
     "output_type": "stream",
     "text": [
      "(42000, 785)\n"
     ]
    },
    {
     "data": {
      "text/html": [
       "<div>\n",
       "<style scoped>\n",
       "    .dataframe tbody tr th:only-of-type {\n",
       "        vertical-align: middle;\n",
       "    }\n",
       "\n",
       "    .dataframe tbody tr th {\n",
       "        vertical-align: top;\n",
       "    }\n",
       "\n",
       "    .dataframe thead th {\n",
       "        text-align: right;\n",
       "    }\n",
       "</style>\n",
       "<table border=\"1\" class=\"dataframe\">\n",
       "  <thead>\n",
       "    <tr style=\"text-align: right;\">\n",
       "      <th></th>\n",
       "      <th>label</th>\n",
       "      <th>pixel0</th>\n",
       "      <th>pixel1</th>\n",
       "      <th>pixel2</th>\n",
       "      <th>pixel3</th>\n",
       "      <th>pixel4</th>\n",
       "      <th>pixel5</th>\n",
       "      <th>pixel6</th>\n",
       "      <th>pixel7</th>\n",
       "      <th>pixel8</th>\n",
       "      <th>...</th>\n",
       "      <th>pixel774</th>\n",
       "      <th>pixel775</th>\n",
       "      <th>pixel776</th>\n",
       "      <th>pixel777</th>\n",
       "      <th>pixel778</th>\n",
       "      <th>pixel779</th>\n",
       "      <th>pixel780</th>\n",
       "      <th>pixel781</th>\n",
       "      <th>pixel782</th>\n",
       "      <th>pixel783</th>\n",
       "    </tr>\n",
       "  </thead>\n",
       "  <tbody>\n",
       "    <tr>\n",
       "      <th>0</th>\n",
       "      <td>1</td>\n",
       "      <td>0</td>\n",
       "      <td>0</td>\n",
       "      <td>0</td>\n",
       "      <td>0</td>\n",
       "      <td>0</td>\n",
       "      <td>0</td>\n",
       "      <td>0</td>\n",
       "      <td>0</td>\n",
       "      <td>0</td>\n",
       "      <td>...</td>\n",
       "      <td>0</td>\n",
       "      <td>0</td>\n",
       "      <td>0</td>\n",
       "      <td>0</td>\n",
       "      <td>0</td>\n",
       "      <td>0</td>\n",
       "      <td>0</td>\n",
       "      <td>0</td>\n",
       "      <td>0</td>\n",
       "      <td>0</td>\n",
       "    </tr>\n",
       "    <tr>\n",
       "      <th>1</th>\n",
       "      <td>0</td>\n",
       "      <td>0</td>\n",
       "      <td>0</td>\n",
       "      <td>0</td>\n",
       "      <td>0</td>\n",
       "      <td>0</td>\n",
       "      <td>0</td>\n",
       "      <td>0</td>\n",
       "      <td>0</td>\n",
       "      <td>0</td>\n",
       "      <td>...</td>\n",
       "      <td>0</td>\n",
       "      <td>0</td>\n",
       "      <td>0</td>\n",
       "      <td>0</td>\n",
       "      <td>0</td>\n",
       "      <td>0</td>\n",
       "      <td>0</td>\n",
       "      <td>0</td>\n",
       "      <td>0</td>\n",
       "      <td>0</td>\n",
       "    </tr>\n",
       "    <tr>\n",
       "      <th>2</th>\n",
       "      <td>1</td>\n",
       "      <td>0</td>\n",
       "      <td>0</td>\n",
       "      <td>0</td>\n",
       "      <td>0</td>\n",
       "      <td>0</td>\n",
       "      <td>0</td>\n",
       "      <td>0</td>\n",
       "      <td>0</td>\n",
       "      <td>0</td>\n",
       "      <td>...</td>\n",
       "      <td>0</td>\n",
       "      <td>0</td>\n",
       "      <td>0</td>\n",
       "      <td>0</td>\n",
       "      <td>0</td>\n",
       "      <td>0</td>\n",
       "      <td>0</td>\n",
       "      <td>0</td>\n",
       "      <td>0</td>\n",
       "      <td>0</td>\n",
       "    </tr>\n",
       "    <tr>\n",
       "      <th>3</th>\n",
       "      <td>4</td>\n",
       "      <td>0</td>\n",
       "      <td>0</td>\n",
       "      <td>0</td>\n",
       "      <td>0</td>\n",
       "      <td>0</td>\n",
       "      <td>0</td>\n",
       "      <td>0</td>\n",
       "      <td>0</td>\n",
       "      <td>0</td>\n",
       "      <td>...</td>\n",
       "      <td>0</td>\n",
       "      <td>0</td>\n",
       "      <td>0</td>\n",
       "      <td>0</td>\n",
       "      <td>0</td>\n",
       "      <td>0</td>\n",
       "      <td>0</td>\n",
       "      <td>0</td>\n",
       "      <td>0</td>\n",
       "      <td>0</td>\n",
       "    </tr>\n",
       "    <tr>\n",
       "      <th>4</th>\n",
       "      <td>0</td>\n",
       "      <td>0</td>\n",
       "      <td>0</td>\n",
       "      <td>0</td>\n",
       "      <td>0</td>\n",
       "      <td>0</td>\n",
       "      <td>0</td>\n",
       "      <td>0</td>\n",
       "      <td>0</td>\n",
       "      <td>0</td>\n",
       "      <td>...</td>\n",
       "      <td>0</td>\n",
       "      <td>0</td>\n",
       "      <td>0</td>\n",
       "      <td>0</td>\n",
       "      <td>0</td>\n",
       "      <td>0</td>\n",
       "      <td>0</td>\n",
       "      <td>0</td>\n",
       "      <td>0</td>\n",
       "      <td>0</td>\n",
       "    </tr>\n",
       "  </tbody>\n",
       "</table>\n",
       "<p>5 rows × 785 columns</p>\n",
       "</div>"
      ],
      "text/plain": [
       "   label  pixel0  pixel1  pixel2  pixel3  pixel4  pixel5  pixel6  pixel7  \\\n",
       "0      1       0       0       0       0       0       0       0       0   \n",
       "1      0       0       0       0       0       0       0       0       0   \n",
       "2      1       0       0       0       0       0       0       0       0   \n",
       "3      4       0       0       0       0       0       0       0       0   \n",
       "4      0       0       0       0       0       0       0       0       0   \n",
       "\n",
       "   pixel8  ...  pixel774  pixel775  pixel776  pixel777  pixel778  pixel779  \\\n",
       "0       0  ...         0         0         0         0         0         0   \n",
       "1       0  ...         0         0         0         0         0         0   \n",
       "2       0  ...         0         0         0         0         0         0   \n",
       "3       0  ...         0         0         0         0         0         0   \n",
       "4       0  ...         0         0         0         0         0         0   \n",
       "\n",
       "   pixel780  pixel781  pixel782  pixel783  \n",
       "0         0         0         0         0  \n",
       "1         0         0         0         0  \n",
       "2         0         0         0         0  \n",
       "3         0         0         0         0  \n",
       "4         0         0         0         0  \n",
       "\n",
       "[5 rows x 785 columns]"
      ]
     },
     "execution_count": 4,
     "metadata": {},
     "output_type": "execute_result"
    }
   ],
   "source": [
    "print(train.shape)\n",
    "train.head()"
   ]
  },
  {
   "cell_type": "code",
   "execution_count": 5,
   "id": "8faa5b12",
   "metadata": {},
   "outputs": [
    {
     "name": "stdout",
     "output_type": "stream",
     "text": [
      "(28000, 784)\n"
     ]
    },
    {
     "data": {
      "text/html": [
       "<div>\n",
       "<style scoped>\n",
       "    .dataframe tbody tr th:only-of-type {\n",
       "        vertical-align: middle;\n",
       "    }\n",
       "\n",
       "    .dataframe tbody tr th {\n",
       "        vertical-align: top;\n",
       "    }\n",
       "\n",
       "    .dataframe thead th {\n",
       "        text-align: right;\n",
       "    }\n",
       "</style>\n",
       "<table border=\"1\" class=\"dataframe\">\n",
       "  <thead>\n",
       "    <tr style=\"text-align: right;\">\n",
       "      <th></th>\n",
       "      <th>pixel0</th>\n",
       "      <th>pixel1</th>\n",
       "      <th>pixel2</th>\n",
       "      <th>pixel3</th>\n",
       "      <th>pixel4</th>\n",
       "      <th>pixel5</th>\n",
       "      <th>pixel6</th>\n",
       "      <th>pixel7</th>\n",
       "      <th>pixel8</th>\n",
       "      <th>pixel9</th>\n",
       "      <th>...</th>\n",
       "      <th>pixel774</th>\n",
       "      <th>pixel775</th>\n",
       "      <th>pixel776</th>\n",
       "      <th>pixel777</th>\n",
       "      <th>pixel778</th>\n",
       "      <th>pixel779</th>\n",
       "      <th>pixel780</th>\n",
       "      <th>pixel781</th>\n",
       "      <th>pixel782</th>\n",
       "      <th>pixel783</th>\n",
       "    </tr>\n",
       "  </thead>\n",
       "  <tbody>\n",
       "    <tr>\n",
       "      <th>0</th>\n",
       "      <td>0</td>\n",
       "      <td>0</td>\n",
       "      <td>0</td>\n",
       "      <td>0</td>\n",
       "      <td>0</td>\n",
       "      <td>0</td>\n",
       "      <td>0</td>\n",
       "      <td>0</td>\n",
       "      <td>0</td>\n",
       "      <td>0</td>\n",
       "      <td>...</td>\n",
       "      <td>0</td>\n",
       "      <td>0</td>\n",
       "      <td>0</td>\n",
       "      <td>0</td>\n",
       "      <td>0</td>\n",
       "      <td>0</td>\n",
       "      <td>0</td>\n",
       "      <td>0</td>\n",
       "      <td>0</td>\n",
       "      <td>0</td>\n",
       "    </tr>\n",
       "    <tr>\n",
       "      <th>1</th>\n",
       "      <td>0</td>\n",
       "      <td>0</td>\n",
       "      <td>0</td>\n",
       "      <td>0</td>\n",
       "      <td>0</td>\n",
       "      <td>0</td>\n",
       "      <td>0</td>\n",
       "      <td>0</td>\n",
       "      <td>0</td>\n",
       "      <td>0</td>\n",
       "      <td>...</td>\n",
       "      <td>0</td>\n",
       "      <td>0</td>\n",
       "      <td>0</td>\n",
       "      <td>0</td>\n",
       "      <td>0</td>\n",
       "      <td>0</td>\n",
       "      <td>0</td>\n",
       "      <td>0</td>\n",
       "      <td>0</td>\n",
       "      <td>0</td>\n",
       "    </tr>\n",
       "    <tr>\n",
       "      <th>2</th>\n",
       "      <td>0</td>\n",
       "      <td>0</td>\n",
       "      <td>0</td>\n",
       "      <td>0</td>\n",
       "      <td>0</td>\n",
       "      <td>0</td>\n",
       "      <td>0</td>\n",
       "      <td>0</td>\n",
       "      <td>0</td>\n",
       "      <td>0</td>\n",
       "      <td>...</td>\n",
       "      <td>0</td>\n",
       "      <td>0</td>\n",
       "      <td>0</td>\n",
       "      <td>0</td>\n",
       "      <td>0</td>\n",
       "      <td>0</td>\n",
       "      <td>0</td>\n",
       "      <td>0</td>\n",
       "      <td>0</td>\n",
       "      <td>0</td>\n",
       "    </tr>\n",
       "    <tr>\n",
       "      <th>3</th>\n",
       "      <td>0</td>\n",
       "      <td>0</td>\n",
       "      <td>0</td>\n",
       "      <td>0</td>\n",
       "      <td>0</td>\n",
       "      <td>0</td>\n",
       "      <td>0</td>\n",
       "      <td>0</td>\n",
       "      <td>0</td>\n",
       "      <td>0</td>\n",
       "      <td>...</td>\n",
       "      <td>0</td>\n",
       "      <td>0</td>\n",
       "      <td>0</td>\n",
       "      <td>0</td>\n",
       "      <td>0</td>\n",
       "      <td>0</td>\n",
       "      <td>0</td>\n",
       "      <td>0</td>\n",
       "      <td>0</td>\n",
       "      <td>0</td>\n",
       "    </tr>\n",
       "    <tr>\n",
       "      <th>4</th>\n",
       "      <td>0</td>\n",
       "      <td>0</td>\n",
       "      <td>0</td>\n",
       "      <td>0</td>\n",
       "      <td>0</td>\n",
       "      <td>0</td>\n",
       "      <td>0</td>\n",
       "      <td>0</td>\n",
       "      <td>0</td>\n",
       "      <td>0</td>\n",
       "      <td>...</td>\n",
       "      <td>0</td>\n",
       "      <td>0</td>\n",
       "      <td>0</td>\n",
       "      <td>0</td>\n",
       "      <td>0</td>\n",
       "      <td>0</td>\n",
       "      <td>0</td>\n",
       "      <td>0</td>\n",
       "      <td>0</td>\n",
       "      <td>0</td>\n",
       "    </tr>\n",
       "  </tbody>\n",
       "</table>\n",
       "<p>5 rows × 784 columns</p>\n",
       "</div>"
      ],
      "text/plain": [
       "   pixel0  pixel1  pixel2  pixel3  pixel4  pixel5  pixel6  pixel7  pixel8  \\\n",
       "0       0       0       0       0       0       0       0       0       0   \n",
       "1       0       0       0       0       0       0       0       0       0   \n",
       "2       0       0       0       0       0       0       0       0       0   \n",
       "3       0       0       0       0       0       0       0       0       0   \n",
       "4       0       0       0       0       0       0       0       0       0   \n",
       "\n",
       "   pixel9  ...  pixel774  pixel775  pixel776  pixel777  pixel778  pixel779  \\\n",
       "0       0  ...         0         0         0         0         0         0   \n",
       "1       0  ...         0         0         0         0         0         0   \n",
       "2       0  ...         0         0         0         0         0         0   \n",
       "3       0  ...         0         0         0         0         0         0   \n",
       "4       0  ...         0         0         0         0         0         0   \n",
       "\n",
       "   pixel780  pixel781  pixel782  pixel783  \n",
       "0         0         0         0         0  \n",
       "1         0         0         0         0  \n",
       "2         0         0         0         0  \n",
       "3         0         0         0         0  \n",
       "4         0         0         0         0  \n",
       "\n",
       "[5 rows x 784 columns]"
      ]
     },
     "execution_count": 5,
     "metadata": {},
     "output_type": "execute_result"
    }
   ],
   "source": [
    "test = pd.read_csv(r\"C:\\Users\\omkar\\OneDrive\\Documents\\Python Files jupyternotebook\\CNN Project C.V\\Digit Recognizer_test.csv\")\n",
    "print(test.shape)\n",
    "test.head()"
   ]
  },
  {
   "cell_type": "code",
   "execution_count": 6,
   "id": "464d1c83",
   "metadata": {},
   "outputs": [],
   "source": [
    "y_train = train[\"label\"]\n",
    "x_train = train.drop(labels = [\"label\"], axis =1)"
   ]
  },
  {
   "cell_type": "code",
   "execution_count": 59,
   "id": "83aa6298",
   "metadata": {},
   "outputs": [
    {
     "name": "stderr",
     "output_type": "stream",
     "text": [
      "C:\\Users\\omkar\\AppData\\Local\\Temp\\ipykernel_18292\\445938534.py:2: FutureWarning: \n",
      "\n",
      "Passing `palette` without assigning `hue` is deprecated and will be removed in v0.14.0. Assign the `x` variable to `hue` and set `legend=False` for the same effect.\n",
      "\n",
      "  g = sns.countplot(y_train, palette =\"icefire\")\n"
     ]
    },
    {
     "data": {
      "text/plain": [
       "label\n",
       "1    4199\n",
       "7    3955\n",
       "3    3933\n",
       "9    3779\n",
       "2    3774\n",
       "6    3724\n",
       "0    3721\n",
       "8    3681\n",
       "4    3611\n",
       "5    3423\n",
       "Name: count, dtype: int64"
      ]
     },
     "execution_count": 59,
     "metadata": {},
     "output_type": "execute_result"
    },
    {
     "data": {
      "image/png": "[encoded data removed]",
      "text/plain": [
       "<Figure size 1500x700 with 1 Axes>"
      ]
     },
     "metadata": {},
     "output_type": "display_data"
    }
   ],
   "source": [
    "plt.figure(figsize = (15,7))\n",
    "g = sns.countplot(y_train, palette =\"icefire\")\n",
    "plt.title(\"Number of digit classes\")\n",
    "y_train.value_counts()"
   ]
  },
  {
   "cell_type": "code",
   "execution_count": 7,
   "id": "c882910e",
   "metadata": {},
   "outputs": [
    {
     "data": {
      "image/png": "[encoded data removed]",
      "text/plain": [
       "<Figure size 640x480 with 1 Axes>"
      ]
     },
     "metadata": {},
     "output_type": "display_data"
    }
   ],
   "source": [
    "img = x_train.iloc[0].to_numpy()\n",
    "img = img.reshape((28,28))\n",
    "plt.imshow(img,cmap ='gray')\n",
    "plt.title(train.iloc[0,0])\n",
    "plt.axis(\"off\")\n",
    "plt.show()\n"
   ]
  },
  {
   "cell_type": "code",
   "execution_count": 8,
   "id": "bd3a9ef5",
   "metadata": {},
   "outputs": [
    {
     "data": {
      "image/png": "[encoded data removed]",
      "text/plain": [
       "<Figure size 640x480 with 1 Axes>"
      ]
     },
     "metadata": {},
     "output_type": "display_data"
    }
   ],
   "source": [
    "img = x_train.iloc[3].to_numpy()\n",
    "img = img.reshape((28,28))\n",
    "plt.imshow(img,cmap='gray')\n",
    "plt.title(train.iloc[3,0])\n",
    "plt.axis(\"off\")\n",
    "plt.show()"
   ]
  },
  {
   "cell_type": "code",
   "execution_count": 9,
   "id": "c82c62a0",
   "metadata": {},
   "outputs": [
    {
     "name": "stdout",
     "output_type": "stream",
     "text": [
      "x_train shape:  (42000, 784)\n",
      "test shape:  (28000, 784)\n"
     ]
    }
   ],
   "source": [
    "x_train = x_train / 255.0\n",
    "test = test / 255.0\n",
    "print(\"x_train shape: \",x_train.shape)\n",
    "print(\"test shape: \",test.shape)"
   ]
  },
  {
   "cell_type": "code",
   "execution_count": 10,
   "id": "16ce68d8",
   "metadata": {},
   "outputs": [
    {
     "name": "stdout",
     "output_type": "stream",
     "text": [
      "x_train shape:  (42000, 28, 28, 1)\n",
      "test shape:  (28000, 28, 28, 1)\n"
     ]
    }
   ],
   "source": [
    "x_train = x_train.values.reshape(-1,28,28,1)\n",
    "test = test.values.reshape(-1,28,28,1)\n",
    "print(\"x_train shape: \",x_train.shape)\n",
    "print(\"test shape: \",test.shape)"
   ]
  },
  {
   "cell_type": "code",
   "execution_count": 12,
   "id": "03c05ef3",
   "metadata": {},
   "outputs": [
    {
     "name": "stdout",
     "output_type": "stream",
     "text": [
      "Requirement already satisfied: keras in c:\\users\\omkar\\anaconda3\\envs\\notebook\\lib\\site-packages (2.15.0)\n"
     ]
    },
    {
     "name": "stderr",
     "output_type": "stream",
     "text": [
      "WARNING: Ignoring invalid distribution -atplotlib (c:\\users\\omkar\\anaconda3\\envs\\notebook\\lib\\site-packages)\n",
      "WARNING: Ignoring invalid distribution -atplotlib (c:\\users\\omkar\\anaconda3\\envs\\notebook\\lib\\site-packages)\n"
     ]
    }
   ],
   "source": [
    "!pip install keras"
   ]
  },
  {
   "cell_type": "code",
   "execution_count": 13,
   "id": "12e10d51",
   "metadata": {},
   "outputs": [
    {
     "name": "stdout",
     "output_type": "stream",
     "text": [
      "Requirement already satisfied: tensorflow in c:\\users\\omkar\\anaconda3\\envs\\notebook\\lib\\site-packages (2.15.0)\n",
      "Requirement already satisfied: tensorflow-intel==2.15.0 in c:\\users\\omkar\\anaconda3\\envs\\notebook\\lib\\site-packages (from tensorflow) (2.15.0)\n",
      "Requirement already satisfied: absl-py>=1.0.0 in c:\\users\\omkar\\anaconda3\\envs\\notebook\\lib\\site-packages (from tensorflow-intel==2.15.0->tensorflow) (2.1.0)\n",
      "Requirement already satisfied: astunparse>=1.6.0 in c:\\users\\omkar\\anaconda3\\envs\\notebook\\lib\\site-packages (from tensorflow-intel==2.15.0->tensorflow) (1.6.3)\n",
      "Requirement already satisfied: flatbuffers>=23.5.26 in c:\\users\\omkar\\anaconda3\\envs\\notebook\\lib\\site-packages (from tensorflow-intel==2.15.0->tensorflow) (23.5.26)\n",
      "Requirement already satisfied: gast!=0.5.0,!=0.5.1,!=0.5.2,>=0.2.1 in c:\\users\\omkar\\anaconda3\\envs\\notebook\\lib\\site-packages (from tensorflow-intel==2.15.0->tensorflow) (0.5.4)\n",
      "Requirement already satisfied: google-pasta>=0.1.1 in c:\\users\\omkar\\anaconda3\\envs\\notebook\\lib\\site-packages (from tensorflow-intel==2.15.0->tensorflow) (0.2.0)\n",
      "Requirement already satisfied: h5py>=2.9.0 in c:\\users\\omkar\\anaconda3\\envs\\notebook\\lib\\site-packages (from tensorflow-intel==2.15.0->tensorflow) (3.10.0)\n",
      "Requirement already satisfied: libclang>=13.0.0 in c:\\users\\omkar\\anaconda3\\envs\\notebook\\lib\\site-packages (from tensorflow-intel==2.15.0->tensorflow) (16.0.6)\n",
      "Requirement already satisfied: ml-dtypes~=0.2.0 in c:\\users\\omkar\\anaconda3\\envs\\notebook\\lib\\site-packages (from tensorflow-intel==2.15.0->tensorflow) (0.2.0)\n",
      "Requirement already satisfied: numpy<2.0.0,>=1.23.5 in c:\\users\\omkar\\anaconda3\\envs\\notebook\\lib\\site-packages (from tensorflow-intel==2.15.0->tensorflow) (1.26.1)\n",
      "Requirement already satisfied: opt-einsum>=2.3.2 in c:\\users\\omkar\\anaconda3\\envs\\notebook\\lib\\site-packages (from tensorflow-intel==2.15.0->tensorflow) (3.3.0)\n",
      "Requirement already satisfied: packaging in c:\\users\\omkar\\anaconda3\\envs\\notebook\\lib\\site-packages (from tensorflow-intel==2.15.0->tensorflow) (23.1)\n",
      "Requirement already satisfied: protobuf!=4.21.0,!=4.21.1,!=4.21.2,!=4.21.3,!=4.21.4,!=4.21.5,<5.0.0dev,>=3.20.3 in c:\\users\\omkar\\anaconda3\\envs\\notebook\\lib\\site-packages (from tensorflow-intel==2.15.0->tensorflow) (4.21.12)\n",
      "Requirement already satisfied: setuptools in c:\\users\\omkar\\anaconda3\\envs\\notebook\\lib\\site-packages (from tensorflow-intel==2.15.0->tensorflow) (68.0.0)\n",
      "Requirement already satisfied: six>=1.12.0 in c:\\users\\omkar\\anaconda3\\envs\\notebook\\lib\\site-packages (from tensorflow-intel==2.15.0->tensorflow) (1.16.0)\n",
      "Requirement already satisfied: termcolor>=1.1.0 in c:\\users\\omkar\\anaconda3\\envs\\notebook\\lib\\site-packages (from tensorflow-intel==2.15.0->tensorflow) (2.3.0)\n",
      "Requirement already satisfied: typing-extensions>=3.6.6 in c:\\users\\omkar\\anaconda3\\envs\\notebook\\lib\\site-packages (from tensorflow-intel==2.15.0->tensorflow) (4.7.1)\n",
      "Requirement already satisfied: wrapt<1.15,>=1.11.0 in c:\\users\\omkar\\anaconda3\\envs\\notebook\\lib\\site-packages (from tensorflow-intel==2.15.0->tensorflow) (1.14.1)\n",
      "Requirement already satisfied: tensorflow-io-gcs-filesystem>=0.23.1 in c:\\users\\omkar\\anaconda3\\envs\\notebook\\lib\\site-packages (from tensorflow-intel==2.15.0->tensorflow) (0.31.0)\n",
      "Requirement already satisfied: grpcio<2.0,>=1.24.3 in c:\\users\\omkar\\anaconda3\\envs\\notebook\\lib\\site-packages (from tensorflow-intel==2.15.0->tensorflow) (1.60.0)\n",
      "Requirement already satisfied: tensorboard<2.16,>=2.15 in c:\\users\\omkar\\anaconda3\\envs\\notebook\\lib\\site-packages (from tensorflow-intel==2.15.0->tensorflow) (2.15.1)\n",
      "Requirement already satisfied: tensorflow-estimator<2.16,>=2.15.0 in c:\\users\\omkar\\anaconda3\\envs\\notebook\\lib\\site-packages (from tensorflow-intel==2.15.0->tensorflow) (2.15.0)\n",
      "Requirement already satisfied: keras<2.16,>=2.15.0 in c:\\users\\omkar\\anaconda3\\envs\\notebook\\lib\\site-packages (from tensorflow-intel==2.15.0->tensorflow) (2.15.0)\n",
      "Requirement already satisfied: wheel<1.0,>=0.23.0 in c:\\users\\omkar\\anaconda3\\envs\\notebook\\lib\\site-packages (from astunparse>=1.6.0->tensorflow-intel==2.15.0->tensorflow) (0.41.2)\n",
      "Requirement already satisfied: google-auth<3,>=1.6.3 in c:\\users\\omkar\\anaconda3\\envs\\notebook\\lib\\site-packages (from tensorboard<2.16,>=2.15->tensorflow-intel==2.15.0->tensorflow) (2.26.2)\n",
      "Requirement already satisfied: google-auth-oauthlib<2,>=0.5 in c:\\users\\omkar\\anaconda3\\envs\\notebook\\lib\\site-packages (from tensorboard<2.16,>=2.15->tensorflow-intel==2.15.0->tensorflow) (1.2.0)\n",
      "Requirement already satisfied: markdown>=2.6.8 in c:\\users\\omkar\\anaconda3\\envs\\notebook\\lib\\site-packages (from tensorboard<2.16,>=2.15->tensorflow-intel==2.15.0->tensorflow) (3.5.2)\n",
      "Requirement already satisfied: requests<3,>=2.21.0 in c:\\users\\omkar\\anaconda3\\envs\\notebook\\lib\\site-packages (from tensorboard<2.16,>=2.15->tensorflow-intel==2.15.0->tensorflow) (2.31.0)\n",
      "Requirement already satisfied: tensorboard-data-server<0.8.0,>=0.7.0 in c:\\users\\omkar\\anaconda3\\envs\\notebook\\lib\\site-packages (from tensorboard<2.16,>=2.15->tensorflow-intel==2.15.0->tensorflow) (0.7.2)\n",
      "Requirement already satisfied: werkzeug>=1.0.1 in c:\\users\\omkar\\anaconda3\\envs\\notebook\\lib\\site-packages (from tensorboard<2.16,>=2.15->tensorflow-intel==2.15.0->tensorflow) (3.0.1)\n",
      "Requirement already satisfied: cachetools<6.0,>=2.0.0 in c:\\users\\omkar\\anaconda3\\envs\\notebook\\lib\\site-packages (from google-auth<3,>=1.6.3->tensorboard<2.16,>=2.15->tensorflow-intel==2.15.0->tensorflow) (5.3.2)\n",
      "Requirement already satisfied: pyasn1-modules>=0.2.1 in c:\\users\\omkar\\anaconda3\\envs\\notebook\\lib\\site-packages (from google-auth<3,>=1.6.3->tensorboard<2.16,>=2.15->tensorflow-intel==2.15.0->tensorflow) (0.3.0)\n",
      "Requirement already satisfied: rsa<5,>=3.1.4 in c:\\users\\omkar\\anaconda3\\envs\\notebook\\lib\\site-packages (from google-auth<3,>=1.6.3->tensorboard<2.16,>=2.15->tensorflow-intel==2.15.0->tensorflow) (4.9)\n",
      "Requirement already satisfied: requests-oauthlib>=0.7.0 in c:\\users\\omkar\\anaconda3\\envs\\notebook\\lib\\site-packages (from google-auth-oauthlib<2,>=0.5->tensorboard<2.16,>=2.15->tensorflow-intel==2.15.0->tensorflow) (1.3.1)\n",
      "Requirement already satisfied: charset-normalizer<4,>=2 in c:\\users\\omkar\\anaconda3\\envs\\notebook\\lib\\site-packages (from requests<3,>=2.21.0->tensorboard<2.16,>=2.15->tensorflow-intel==2.15.0->tensorflow) (3.3.2)\n",
      "Requirement already satisfied: idna<4,>=2.5 in c:\\users\\omkar\\anaconda3\\envs\\notebook\\lib\\site-packages (from requests<3,>=2.21.0->tensorboard<2.16,>=2.15->tensorflow-intel==2.15.0->tensorflow) (3.6)\n",
      "Requirement already satisfied: urllib3<3,>=1.21.1 in c:\\users\\omkar\\anaconda3\\envs\\notebook\\lib\\site-packages (from requests<3,>=2.21.0->tensorboard<2.16,>=2.15->tensorflow-intel==2.15.0->tensorflow) (2.1.0)\n",
      "Requirement already satisfied: certifi>=2017.4.17 in c:\\users\\omkar\\anaconda3\\envs\\notebook\\lib\\site-packages (from requests<3,>=2.21.0->tensorboard<2.16,>=2.15->tensorflow-intel==2.15.0->tensorflow) (2023.11.17)\n",
      "Requirement already satisfied: MarkupSafe>=2.1.1 in c:\\users\\omkar\\anaconda3\\envs\\notebook\\lib\\site-packages (from werkzeug>=1.0.1->tensorboard<2.16,>=2.15->tensorflow-intel==2.15.0->tensorflow) (2.1.1)\n",
      "Requirement already satisfied: pyasn1<0.6.0,>=0.4.6 in c:\\users\\omkar\\anaconda3\\envs\\notebook\\lib\\site-packages (from pyasn1-modules>=0.2.1->google-auth<3,>=1.6.3->tensorboard<2.16,>=2.15->tensorflow-intel==2.15.0->tensorflow) (0.5.1)\n",
      "Requirement already satisfied: oauthlib>=3.0.0 in c:\\users\\omkar\\anaconda3\\envs\\notebook\\lib\\site-packages (from requests-oauthlib>=0.7.0->google-auth-oauthlib<2,>=0.5->tensorboard<2.16,>=2.15->tensorflow-intel==2.15.0->tensorflow) (3.2.2)\n"
     ]
    },
    {
     "name": "stderr",
     "output_type": "stream",
     "text": [
      "WARNING: Ignoring invalid distribution -atplotlib (c:\\users\\omkar\\anaconda3\\envs\\notebook\\lib\\site-packages)\n",
      "WARNING: Ignoring invalid distribution -atplotlib (c:\\users\\omkar\\anaconda3\\envs\\notebook\\lib\\site-packages)\n"
     ]
    }
   ],
   "source": [
    "! pip install tensorflow"
   ]
  },
  {
   "cell_type": "code",
   "execution_count": 33,
   "id": "61880ffa",
   "metadata": {},
   "outputs": [
    {
     "name": "stdout",
     "output_type": "stream",
     "text": [
      "Collecting utils\n",
      "  Downloading utils-1.0.2.tar.gz (13 kB)\n",
      "  Preparing metadata (setup.py): started\n",
      "  Preparing metadata (setup.py): finished with status 'done'\n",
      "Building wheels for collected packages: utils\n",
      "  Building wheel for utils (setup.py): started\n",
      "  Building wheel for utils (setup.py): finished with status 'done'\n",
      "  Created wheel for utils: filename=utils-1.0.2-py2.py3-none-any.whl size=13934 sha256=25ce52f246656440bb9265cd3b4b16a69169c32a45c73ea24c6bd2d0411d6b5f\n",
      "  Stored in directory: c:\\users\\omkar\\appdata\\local\\pip\\cache\\wheels\\b8\\39\\f5\\9d0ca31dba85773ececf0a7f5469f18810e1c8a8ed9da28ca7\n",
      "Successfully built utils\n",
      "Installing collected packages: utils\n",
      "Successfully installed utils-1.0.2\n"
     ]
    },
    {
     "name": "stderr",
     "output_type": "stream",
     "text": [
      "WARNING: Ignoring invalid distribution -atplotlib (c:\\users\\omkar\\anaconda3\\envs\\notebook\\lib\\site-packages)\n",
      "WARNING: Ignoring invalid distribution -atplotlib (c:\\users\\omkar\\anaconda3\\envs\\notebook\\lib\\site-packages)\n"
     ]
    }
   ],
   "source": [
    "!pip install utils"
   ]
  },
  {
   "cell_type": "code",
   "execution_count": 45,
   "id": "e8352f83",
   "metadata": {},
   "outputs": [
    {
     "name": "stdout",
     "output_type": "stream",
     "text": [
      "Requirement already satisfied: tensorflow in c:\\users\\omkar\\anaconda3\\envs\\notebook\\lib\\site-packages (2.15.0)\n",
      "Requirement already satisfied: tensorflow-intel==2.15.0 in c:\\users\\omkar\\anaconda3\\envs\\notebook\\lib\\site-packages (from tensorflow) (2.15.0)\n",
      "Requirement already satisfied: absl-py>=1.0.0 in c:\\users\\omkar\\anaconda3\\envs\\notebook\\lib\\site-packages (from tensorflow-intel==2.15.0->tensorflow) (2.1.0)\n",
      "Requirement already satisfied: astunparse>=1.6.0 in c:\\users\\omkar\\anaconda3\\envs\\notebook\\lib\\site-packages (from tensorflow-intel==2.15.0->tensorflow) (1.6.3)\n",
      "Requirement already satisfied: flatbuffers>=23.5.26 in c:\\users\\omkar\\anaconda3\\envs\\notebook\\lib\\site-packages (from tensorflow-intel==2.15.0->tensorflow) (23.5.26)\n",
      "Requirement already satisfied: gast!=0.5.0,!=0.5.1,!=0.5.2,>=0.2.1 in c:\\users\\omkar\\anaconda3\\envs\\notebook\\lib\\site-packages (from tensorflow-intel==2.15.0->tensorflow) (0.5.4)\n",
      "Requirement already satisfied: google-pasta>=0.1.1 in c:\\users\\omkar\\anaconda3\\envs\\notebook\\lib\\site-packages (from tensorflow-intel==2.15.0->tensorflow) (0.2.0)\n",
      "Requirement already satisfied: h5py>=2.9.0 in c:\\users\\omkar\\anaconda3\\envs\\notebook\\lib\\site-packages (from tensorflow-intel==2.15.0->tensorflow) (3.10.0)\n",
      "Requirement already satisfied: libclang>=13.0.0 in c:\\users\\omkar\\anaconda3\\envs\\notebook\\lib\\site-packages (from tensorflow-intel==2.15.0->tensorflow) (16.0.6)\n",
      "Requirement already satisfied: ml-dtypes~=0.2.0 in c:\\users\\omkar\\anaconda3\\envs\\notebook\\lib\\site-packages (from tensorflow-intel==2.15.0->tensorflow) (0.2.0)\n",
      "Requirement already satisfied: numpy<2.0.0,>=1.23.5 in c:\\users\\omkar\\anaconda3\\envs\\notebook\\lib\\site-packages (from tensorflow-intel==2.15.0->tensorflow) (1.26.1)\n",
      "Requirement already satisfied: opt-einsum>=2.3.2 in c:\\users\\omkar\\anaconda3\\envs\\notebook\\lib\\site-packages (from tensorflow-intel==2.15.0->tensorflow) (3.3.0)\n",
      "Requirement already satisfied: packaging in c:\\users\\omkar\\anaconda3\\envs\\notebook\\lib\\site-packages (from tensorflow-intel==2.15.0->tensorflow) (23.1)\n",
      "Requirement already satisfied: protobuf!=4.21.0,!=4.21.1,!=4.21.2,!=4.21.3,!=4.21.4,!=4.21.5,<5.0.0dev,>=3.20.3 in c:\\users\\omkar\\anaconda3\\envs\\notebook\\lib\\site-packages (from tensorflow-intel==2.15.0->tensorflow) (4.21.12)\n",
      "Requirement already satisfied: setuptools in c:\\users\\omkar\\anaconda3\\envs\\notebook\\lib\\site-packages (from tensorflow-intel==2.15.0->tensorflow) (68.0.0)\n",
      "Requirement already satisfied: six>=1.12.0 in c:\\users\\omkar\\anaconda3\\envs\\notebook\\lib\\site-packages (from tensorflow-intel==2.15.0->tensorflow) (1.16.0)\n",
      "Requirement already satisfied: termcolor>=1.1.0 in c:\\users\\omkar\\anaconda3\\envs\\notebook\\lib\\site-packages (from tensorflow-intel==2.15.0->tensorflow) (2.3.0)\n",
      "Requirement already satisfied: typing-extensions>=3.6.6 in c:\\users\\omkar\\anaconda3\\envs\\notebook\\lib\\site-packages (from tensorflow-intel==2.15.0->tensorflow) (4.7.1)\n",
      "Requirement already satisfied: wrapt<1.15,>=1.11.0 in c:\\users\\omkar\\anaconda3\\envs\\notebook\\lib\\site-packages (from tensorflow-intel==2.15.0->tensorflow) (1.14.1)\n",
      "Requirement already satisfied: tensorflow-io-gcs-filesystem>=0.23.1 in c:\\users\\omkar\\anaconda3\\envs\\notebook\\lib\\site-packages (from tensorflow-intel==2.15.0->tensorflow) (0.31.0)\n",
      "Requirement already satisfied: grpcio<2.0,>=1.24.3 in c:\\users\\omkar\\anaconda3\\envs\\notebook\\lib\\site-packages (from tensorflow-intel==2.15.0->tensorflow) (1.60.0)\n",
      "Requirement already satisfied: tensorboard<2.16,>=2.15 in c:\\users\\omkar\\anaconda3\\envs\\notebook\\lib\\site-packages (from tensorflow-intel==2.15.0->tensorflow) (2.15.1)\n",
      "Requirement already satisfied: tensorflow-estimator<2.16,>=2.15.0 in c:\\users\\omkar\\anaconda3\\envs\\notebook\\lib\\site-packages (from tensorflow-intel==2.15.0->tensorflow) (2.15.0)\n",
      "Collecting keras<2.16,>=2.15.0 (from tensorflow-intel==2.15.0->tensorflow)\n",
      "  Obtaining dependency information for keras<2.16,>=2.15.0 from https://files.pythonhosted.org/packages/fc/a7/0d4490de967a67f68a538cc9cdb259bff971c4b5787f7765dc7c8f118f71/keras-2.15.0-py3-none-any.whl.metadata\n",
      "  Using cached keras-2.15.0-py3-none-any.whl.metadata (2.4 kB)\n",
      "Requirement already satisfied: wheel<1.0,>=0.23.0 in c:\\users\\omkar\\anaconda3\\envs\\notebook\\lib\\site-packages (from astunparse>=1.6.0->tensorflow-intel==2.15.0->tensorflow) (0.41.2)\n",
      "Requirement already satisfied: google-auth<3,>=1.6.3 in c:\\users\\omkar\\anaconda3\\envs\\notebook\\lib\\site-packages (from tensorboard<2.16,>=2.15->tensorflow-intel==2.15.0->tensorflow) (2.26.2)\n",
      "Requirement already satisfied: google-auth-oauthlib<2,>=0.5 in c:\\users\\omkar\\anaconda3\\envs\\notebook\\lib\\site-packages (from tensorboard<2.16,>=2.15->tensorflow-intel==2.15.0->tensorflow) (1.2.0)\n",
      "Requirement already satisfied: markdown>=2.6.8 in c:\\users\\omkar\\anaconda3\\envs\\notebook\\lib\\site-packages (from tensorboard<2.16,>=2.15->tensorflow-intel==2.15.0->tensorflow) (3.5.2)\n",
      "Requirement already satisfied: requests<3,>=2.21.0 in c:\\users\\omkar\\anaconda3\\envs\\notebook\\lib\\site-packages (from tensorboard<2.16,>=2.15->tensorflow-intel==2.15.0->tensorflow) (2.31.0)\n",
      "Requirement already satisfied: tensorboard-data-server<0.8.0,>=0.7.0 in c:\\users\\omkar\\anaconda3\\envs\\notebook\\lib\\site-packages (from tensorboard<2.16,>=2.15->tensorflow-intel==2.15.0->tensorflow) (0.7.2)\n",
      "Requirement already satisfied: werkzeug>=1.0.1 in c:\\users\\omkar\\anaconda3\\envs\\notebook\\lib\\site-packages (from tensorboard<2.16,>=2.15->tensorflow-intel==2.15.0->tensorflow) (3.0.1)\n",
      "Requirement already satisfied: cachetools<6.0,>=2.0.0 in c:\\users\\omkar\\anaconda3\\envs\\notebook\\lib\\site-packages (from google-auth<3,>=1.6.3->tensorboard<2.16,>=2.15->tensorflow-intel==2.15.0->tensorflow) (5.3.2)\n",
      "Requirement already satisfied: pyasn1-modules>=0.2.1 in c:\\users\\omkar\\anaconda3\\envs\\notebook\\lib\\site-packages (from google-auth<3,>=1.6.3->tensorboard<2.16,>=2.15->tensorflow-intel==2.15.0->tensorflow) (0.3.0)\n",
      "Requirement already satisfied: rsa<5,>=3.1.4 in c:\\users\\omkar\\anaconda3\\envs\\notebook\\lib\\site-packages (from google-auth<3,>=1.6.3->tensorboard<2.16,>=2.15->tensorflow-intel==2.15.0->tensorflow) (4.9)\n",
      "Requirement already satisfied: requests-oauthlib>=0.7.0 in c:\\users\\omkar\\anaconda3\\envs\\notebook\\lib\\site-packages (from google-auth-oauthlib<2,>=0.5->tensorboard<2.16,>=2.15->tensorflow-intel==2.15.0->tensorflow) (1.3.1)\n",
      "Requirement already satisfied: charset-normalizer<4,>=2 in c:\\users\\omkar\\anaconda3\\envs\\notebook\\lib\\site-packages (from requests<3,>=2.21.0->tensorboard<2.16,>=2.15->tensorflow-intel==2.15.0->tensorflow) (3.3.2)\n",
      "Requirement already satisfied: idna<4,>=2.5 in c:\\users\\omkar\\anaconda3\\envs\\notebook\\lib\\site-packages (from requests<3,>=2.21.0->tensorboard<2.16,>=2.15->tensorflow-intel==2.15.0->tensorflow) (3.6)\n",
      "Requirement already satisfied: urllib3<3,>=1.21.1 in c:\\users\\omkar\\anaconda3\\envs\\notebook\\lib\\site-packages (from requests<3,>=2.21.0->tensorboard<2.16,>=2.15->tensorflow-intel==2.15.0->tensorflow) (2.1.0)\n",
      "Requirement already satisfied: certifi>=2017.4.17 in c:\\users\\omkar\\anaconda3\\envs\\notebook\\lib\\site-packages (from requests<3,>=2.21.0->tensorboard<2.16,>=2.15->tensorflow-intel==2.15.0->tensorflow) (2023.11.17)\n",
      "Requirement already satisfied: MarkupSafe>=2.1.1 in c:\\users\\omkar\\anaconda3\\envs\\notebook\\lib\\site-packages (from werkzeug>=1.0.1->tensorboard<2.16,>=2.15->tensorflow-intel==2.15.0->tensorflow) (2.1.1)\n",
      "Requirement already satisfied: pyasn1<0.6.0,>=0.4.6 in c:\\users\\omkar\\anaconda3\\envs\\notebook\\lib\\site-packages (from pyasn1-modules>=0.2.1->google-auth<3,>=1.6.3->tensorboard<2.16,>=2.15->tensorflow-intel==2.15.0->tensorflow) (0.5.1)\n",
      "Requirement already satisfied: oauthlib>=3.0.0 in c:\\users\\omkar\\anaconda3\\envs\\notebook\\lib\\site-packages (from requests-oauthlib>=0.7.0->google-auth-oauthlib<2,>=0.5->tensorboard<2.16,>=2.15->tensorflow-intel==2.15.0->tensorflow) (3.2.2)\n",
      "Using cached keras-2.15.0-py3-none-any.whl (1.7 MB)\n",
      "Installing collected packages: keras\n",
      "  Attempting uninstall: keras\n",
      "    Found existing installation: keras 3.0.4\n",
      "    Uninstalling keras-3.0.4:\n",
      "      Successfully uninstalled keras-3.0.4\n",
      "Successfully installed keras-2.15.0\n"
     ]
    },
    {
     "name": "stderr",
     "output_type": "stream",
     "text": [
      "WARNING: Ignoring invalid distribution -atplotlib (c:\\users\\omkar\\anaconda3\\envs\\notebook\\lib\\site-packages)\n",
      "WARNING: Ignoring invalid distribution -atplotlib (c:\\users\\omkar\\anaconda3\\envs\\notebook\\lib\\site-packages)\n"
     ]
    }
   ],
   "source": [
    "!pip install --upgrade tensorflow"
   ]
  },
  {
   "cell_type": "code",
   "execution_count": 43,
   "id": "ca802ac4",
   "metadata": {},
   "outputs": [
    {
     "name": "stderr",
     "output_type": "stream",
     "text": [
      "WARNING: Ignoring invalid distribution -atplotlib (c:\\users\\omkar\\anaconda3\\envs\\notebook\\lib\\site-packages)\n",
      "ERROR: Could not find a version that satisfies the requirement tensorflow==1.14.0 (from versions: 2.8.0rc1, 2.8.0, 2.8.1, 2.8.2, 2.8.3, 2.8.4, 2.9.0rc0, 2.9.0rc1, 2.9.0rc2, 2.9.0, 2.9.1, 2.9.2, 2.9.3, 2.10.0rc0, 2.10.0rc1, 2.10.0rc2, 2.10.0rc3, 2.10.0, 2.10.1, 2.11.0rc0, 2.11.0rc1, 2.11.0rc2, 2.11.0, 2.11.1, 2.12.0rc0, 2.12.0rc1, 2.12.0, 2.12.1, 2.13.0rc0, 2.13.0rc1, 2.13.0rc2, 2.13.0, 2.13.1, 2.14.0rc0, 2.14.0rc1, 2.14.0, 2.14.1, 2.15.0rc0, 2.15.0rc1, 2.15.0)\n",
      "ERROR: No matching distribution found for tensorflow==1.14.0\n"
     ]
    }
   ],
   "source": [
    "!pip install tensorflow==1.14.0"
   ]
  },
  {
   "cell_type": "code",
   "execution_count": 46,
   "id": "9f5beaf6",
   "metadata": {},
   "outputs": [],
   "source": [
    "from tensorflow.keras import utils"
   ]
  },
  {
   "cell_type": "code",
   "execution_count": 47,
   "id": "3eddca55",
   "metadata": {
    "scrolled": true
   },
   "outputs": [],
   "source": [
    "from keras.utils import to_categorical\n",
    "y_train = to_categorical(y_train, num_classes = 10)"
   ]
  },
  {
   "cell_type": "code",
   "execution_count": 48,
   "id": "31f6509c",
   "metadata": {},
   "outputs": [
    {
     "name": "stdout",
     "output_type": "stream",
     "text": [
      "x_train shape (30618, 28, 28, 1)\n",
      "x_test shape (3402, 28, 28, 1)\n",
      "y_train shape (30618, 10, 10, 10)\n",
      "y_test shape (3402, 10, 10, 10)\n"
     ]
    }
   ],
   "source": [
    "from sklearn.model_selection import train_test_split\n",
    "x_train, x_val, y_train, y_val = train_test_split(x_train, y_train, test_size = 0.1, random_state=2)\n",
    "print(\"x_train shape\",x_train.shape)\n",
    "print(\"x_test shape\",x_val.shape)\n",
    "print(\"y_train shape\",y_train.shape)\n",
    "print(\"y_test shape\",y_val.shape)"
   ]
  },
  {
   "cell_type": "code",
   "execution_count": 49,
   "id": "6f699dd0",
   "metadata": {},
   "outputs": [
    {
     "data": {
      "image/png": "[encoded data removed]",
      "text/plain": [
       "<Figure size 640x480 with 1 Axes>"
      ]
     },
     "metadata": {},
     "output_type": "display_data"
    }
   ],
   "source": [
    "plt.imshow(x_train[2][:,:,0],cmap='gray')\n",
    "plt.show()"
   ]
  },
  {
   "cell_type": "code",
   "execution_count": 50,
   "id": "a7d16d07",
   "metadata": {
    "scrolled": true
   },
   "outputs": [],
   "source": [
    "from sklearn.metrics import confusion_matrix\n",
    "import itertools\n",
    "\n",
    "from keras.utils import to_categorical # convert to one-hot-encoding\n",
    "from keras.models import Sequential\n",
    "from keras.layers import Dense, Dropout, Flatten, Conv2D, MaxPool2D\n",
    "from keras.optimizers import RMSprop,Adam\n",
    "from keras.preprocessing.image import ImageDataGenerator\n",
    "from keras.callbacks import ReduceLROnPlateau\n",
    "\n",
    "model = Sequential()\n",
    "#\n",
    "model.add(Conv2D(filters = 8, kernel_size = (5,5),padding = 'Same', \n",
    "                 activation ='relu', input_shape = (28,28,1)))\n",
    "model.add(MaxPool2D(pool_size=(2,2)))\n",
    "model.add(Dropout(0.25))\n",
    "#\n",
    "model.add(Conv2D(filters = 16, kernel_size = (3,3),padding = 'Same', \n",
    "                 activation ='relu'))\n",
    "model.add(MaxPool2D(pool_size=(2,2), strides=(2,2)))\n",
    "model.add(Dropout(0.25))\n",
    "# fully connected\n",
    "model.add(Flatten())\n",
    "model.add(Dense(256, activation = \"relu\"))\n",
    "model.add(Dropout(0.5))\n",
    "model.add(Dense(10, activation = \"softmax\"))"
   ]
  },
  {
   "cell_type": "code",
   "execution_count": 51,
   "id": "99887e7e",
   "metadata": {},
   "outputs": [
    {
     "name": "stdout",
     "output_type": "stream",
     "text": [
      "Requirement already satisfied: keras in c:\\users\\omkar\\anaconda3\\envs\\notebook\\lib\\site-packages (2.15.0)\n"
     ]
    },
    {
     "name": "stderr",
     "output_type": "stream",
     "text": [
      "WARNING: Ignoring invalid distribution -atplotlib (c:\\users\\omkar\\anaconda3\\envs\\notebook\\lib\\site-packages)\n",
      "WARNING: Ignoring invalid distribution -atplotlib (c:\\users\\omkar\\anaconda3\\envs\\notebook\\lib\\site-packages)\n"
     ]
    }
   ],
   "source": [
    "!pip install keras"
   ]
  },
  {
   "cell_type": "code",
   "execution_count": 52,
   "id": "0a17e70e",
   "metadata": {},
   "outputs": [
    {
     "name": "stdout",
     "output_type": "stream",
     "text": [
      "Requirement already satisfied: keras in c:\\users\\omkar\\anaconda3\\envs\\notebook\\lib\\site-packages (2.15.0)\n",
      "Collecting keras\n",
      "  Obtaining dependency information for keras from https://files.pythonhosted.org/packages/a3/31/982a0c8da5e06b8e915e09e7cae7f7815eecfef7e9e16fd733b105aa09ab/keras-3.0.4-py3-none-any.whl.metadata\n",
      "  Using cached keras-3.0.4-py3-none-any.whl.metadata (4.8 kB)\n",
      "Requirement already satisfied: absl-py in c:\\users\\omkar\\anaconda3\\envs\\notebook\\lib\\site-packages (from keras) (2.1.0)\n",
      "Requirement already satisfied: numpy in c:\\users\\omkar\\anaconda3\\envs\\notebook\\lib\\site-packages (from keras) (1.26.1)\n",
      "Requirement already satisfied: rich in c:\\users\\omkar\\anaconda3\\envs\\notebook\\lib\\site-packages (from keras) (13.7.0)\n",
      "Requirement already satisfied: namex in c:\\users\\omkar\\anaconda3\\envs\\notebook\\lib\\site-packages (from keras) (0.0.7)\n",
      "Requirement already satisfied: h5py in c:\\users\\omkar\\anaconda3\\envs\\notebook\\lib\\site-packages (from keras) (3.10.0)\n",
      "Requirement already satisfied: dm-tree in c:\\users\\omkar\\anaconda3\\envs\\notebook\\lib\\site-packages (from keras) (0.1.8)\n",
      "Requirement already satisfied: markdown-it-py>=2.2.0 in c:\\users\\omkar\\anaconda3\\envs\\notebook\\lib\\site-packages (from rich->keras) (3.0.0)\n",
      "Requirement already satisfied: pygments<3.0.0,>=2.13.0 in c:\\users\\omkar\\anaconda3\\envs\\notebook\\lib\\site-packages (from rich->keras) (2.15.1)\n",
      "Requirement already satisfied: mdurl~=0.1 in c:\\users\\omkar\\anaconda3\\envs\\notebook\\lib\\site-packages (from markdown-it-py>=2.2.0->rich->keras) (0.1.2)\n",
      "Using cached keras-3.0.4-py3-none-any.whl (1.0 MB)\n",
      "Installing collected packages: keras\n",
      "  Attempting uninstall: keras\n",
      "    Found existing installation: keras 2.15.0\n",
      "    Uninstalling keras-2.15.0:\n",
      "      Successfully uninstalled keras-2.15.0\n",
      "Successfully installed keras-3.0.4\n"
     ]
    },
    {
     "name": "stderr",
     "output_type": "stream",
     "text": [
      "WARNING: Ignoring invalid distribution -atplotlib (c:\\users\\omkar\\anaconda3\\envs\\notebook\\lib\\site-packages)\n",
      "WARNING: Ignoring invalid distribution -atplotlib (c:\\users\\omkar\\anaconda3\\envs\\notebook\\lib\\site-packages)\n",
      "ERROR: pip's dependency resolver does not currently take into account all the packages that are installed. This behaviour is the source of the following dependency conflicts.\n",
      "tensorflow-intel 2.15.0 requires keras<2.16,>=2.15.0, but you have keras 3.0.4 which is incompatible.\n"
     ]
    }
   ],
   "source": [
    "!pip install -U keras"
   ]
  },
  {
   "cell_type": "code",
   "execution_count": 57,
   "id": "181ffdd6",
   "metadata": {},
   "outputs": [],
   "source": [
    "#from keras.optimizers_v1 import Adam\n",
    "#from tensorflow.keras.optimizers import Adam\n",
    "from keras.optimizers import Adam"
   ]
  },
  {
   "cell_type": "code",
   "execution_count": 59,
   "id": "19a701a0",
   "metadata": {
    "scrolled": true
   },
   "outputs": [
    {
     "name": "stderr",
     "output_type": "stream",
     "text": [
      "WARNING:absl:`lr` is deprecated in Keras optimizer, please use `learning_rate` or use the legacy optimizer, e.g.,tf.keras.optimizers.legacy.Adam.\n"
     ]
    }
   ],
   "source": [
    "#from tensorflow.keras.optimizers import Adam\n",
    "\n",
    "optimizer = Adam(lr=0.001, beta_1=0.9, beta_2=0.999)"
   ]
  },
  {
   "cell_type": "code",
   "execution_count": 63,
   "id": "fe75aac2",
   "metadata": {},
   "outputs": [],
   "source": [
    "#from tensorflow.keras.optimizers import model\n",
    "model.compile(optimizer = optimizer , loss = \"categorical_crossentropy\", metrics=[\"accuracy\"])"
   ]
  },
  {
   "cell_type": "code",
   "execution_count": 64,
   "id": "3e16244b",
   "metadata": {},
   "outputs": [],
   "source": [
    "\n",
    "\n",
    "epochs = 10  # for better result increase the epochs\n",
    "batch_size = 250\n",
    "\n"
   ]
  },
  {
   "cell_type": "code",
   "execution_count": 67,
   "id": "2c7ec769",
   "metadata": {},
   "outputs": [],
   "source": [
    "# data augmentation\n",
    "from keras.preprocessing.image import ImageDataGenerator\n",
    "datagen = ImageDataGenerator(\n",
    "        featurewise_center=False,  # set input mean to 0 over the dataset\n",
    "        samplewise_center=False,  # set each sample mean to 0\n",
    "        featurewise_std_normalization=False,  # divide inputs by std of the dataset\n",
    "        samplewise_std_normalization=False,  # divide each input by its std\n",
    "        zca_whitening=False,  # dimesion reduction\n",
    "        rotation_range=5,  # randomly rotate images in the range 5 degrees\n",
    "        zoom_range = 0.1, # Randomly zoom image 10%\n",
    "        width_shift_range=0.1,  # randomly shift images horizontally 10%\n",
    "        height_shift_range=0.1,  # randomly shift images vertically 10%\n",
    "        horizontal_flip=False,  # randomly flip images\n",
    "        vertical_flip=False)  # randomly flip images\n",
    "\n",
    "datagen.fit(x_train)"
   ]
  },
  {
   "cell_type": "code",
   "execution_count": 75,
   "id": "aa755995",
   "metadata": {},
   "outputs": [
    {
     "ename": "ValueError",
     "evalue": "Unknown label type: (array([[[[1., 0., 0., ..., 0., 0., 0.],\n         [0., 1., 0., ..., 0., 0., 0.],\n         [1., 0., 0., ..., 0., 0., 0.],\n         ...,\n         [1., 0., 0., ..., 0., 0., 0.],\n         [1., 0., 0., ..., 0., 0., 0.],\n         [1., 0., 0., ..., 0., 0., 0.]],\n\n        [[0., 1., 0., ..., 0., 0., 0.],\n         [1., 0., 0., ..., 0., 0., 0.],\n         [1., 0., 0., ..., 0., 0., 0.],\n         ...,\n         [1., 0., 0., ..., 0., 0., 0.],\n         [1., 0., 0., ..., 0., 0., 0.],\n         [1., 0., 0., ..., 0., 0., 0.]],\n\n        [[0., 1., 0., ..., 0., 0., 0.],\n         [1., 0., 0., ..., 0., 0., 0.],\n         [1., 0., 0., ..., 0., 0., 0.],\n         ...,\n         [1., 0., 0., ..., 0., 0., 0.],\n         [1., 0., 0., ..., 0., 0., 0.],\n         [1., 0., 0., ..., 0., 0., 0.]],\n\n        ...,\n\n        [[0., 1., 0., ..., 0., 0., 0.],\n         [1., 0., 0., ..., 0., 0., 0.],\n         [1., 0., 0., ..., 0., 0., 0.],\n         ...,\n         [1., 0., 0., ..., 0., 0., 0.],\n         [1., 0., 0., ..., 0., 0., 0.],\n         [1., 0., 0., ..., 0., 0., 0.]],\n\n        [[0., 1., 0., ..., 0., 0., 0.],\n         [1., 0., 0., ..., 0., 0., 0.],\n         [1., 0., 0., ..., 0., 0., 0.],\n         ...,\n         [1., 0., 0., ..., 0., 0., 0.],\n         [1., 0., 0., ..., 0., 0., 0.],\n         [1., 0., 0., ..., 0., 0., 0.]],\n\n        [[0., 1., 0., ..., 0., 0., 0.],\n         [1., 0., 0., ..., 0., 0., 0.],\n         [1., 0., 0., ..., 0., 0., 0.],\n         ...,\n         [1., 0., 0., ..., 0., 0., 0.],\n         [1., 0., 0., ..., 0., 0., 0.],\n         [1., 0., 0., ..., 0., 0., 0.]]],\n\n\n       [[[0., 1., 0., ..., 0., 0., 0.],\n         [1., 0., 0., ..., 0., 0., 0.],\n         [1., 0., 0., ..., 0., 0., 0.],\n         ...,\n         [1., 0., 0., ..., 0., 0., 0.],\n         [1., 0., 0., ..., 0., 0., 0.],\n         [1., 0., 0., ..., 0., 0., 0.]],\n\n        [[0., 1., 0., ..., 0., 0., 0.],\n         [1., 0., 0., ..., 0., 0., 0.],\n         [1., 0., 0., ..., 0., 0., 0.],\n         ...,\n         [1., 0., 0., ..., 0., 0., 0.],\n         [1., 0., 0., ..., 0., 0., 0.],\n         [1., 0., 0., ..., 0., 0., 0.]],\n\n        [[0., 1., 0., ..., 0., 0., 0.],\n         [1., 0., 0., ..., 0., 0., 0.],\n         [1., 0., 0., ..., 0., 0., 0.],\n         ...,\n         [1., 0., 0., ..., 0., 0., 0.],\n         [1., 0., 0., ..., 0., 0., 0.],\n         [1., 0., 0., ..., 0., 0., 0.]],\n\n        ...,\n\n        [[0., 1., 0., ..., 0., 0., 0.],\n         [1., 0., 0., ..., 0., 0., 0.],\n         [1., 0., 0., ..., 0., 0., 0.],\n         ...,\n         [1., 0., 0., ..., 0., 0., 0.],\n         [1., 0., 0., ..., 0., 0., 0.],\n         [1., 0., 0., ..., 0., 0., 0.]],\n\n        [[1., 0., 0., ..., 0., 0., 0.],\n         [0., 1., 0., ..., 0., 0., 0.],\n         [1., 0., 0., ..., 0., 0., 0.],\n         ...,\n         [1., 0., 0., ..., 0., 0., 0.],\n         [1., 0., 0., ..., 0., 0., 0.],\n         [1., 0., 0., ..., 0., 0., 0.]],\n\n        [[0., 1., 0., ..., 0., 0., 0.],\n         [1., 0., 0., ..., 0., 0., 0.],\n         [1., 0., 0., ..., 0., 0., 0.],\n         ...,\n         [1., 0., 0., ..., 0., 0., 0.],\n         [1., 0., 0., ..., 0., 0., 0.],\n         [1., 0., 0., ..., 0., 0., 0.]]],\n\n\n       [[[0., 1., 0., ..., 0., 0., 0.],\n         [1., 0., 0., ..., 0., 0., 0.],\n         [1., 0., 0., ..., 0., 0., 0.],\n         ...,\n         [1., 0., 0., ..., 0., 0., 0.],\n         [1., 0., 0., ..., 0., 0., 0.],\n         [1., 0., 0., ..., 0., 0., 0.]],\n\n        [[0., 1., 0., ..., 0., 0., 0.],\n         [1., 0., 0., ..., 0., 0., 0.],\n         [1., 0., 0., ..., 0., 0., 0.],\n         ...,\n         [1., 0., 0., ..., 0., 0., 0.],\n         [1., 0., 0., ..., 0., 0., 0.],\n         [1., 0., 0., ..., 0., 0., 0.]],\n\n        [[0., 1., 0., ..., 0., 0., 0.],\n         [1., 0., 0., ..., 0., 0., 0.],\n         [1., 0., 0., ..., 0., 0., 0.],\n         ...,\n         [1., 0., 0., ..., 0., 0., 0.],\n         [1., 0., 0., ..., 0., 0., 0.],\n         [1., 0., 0., ..., 0., 0., 0.]],\n\n        ...,\n\n        [[0., 1., 0., ..., 0., 0., 0.],\n         [1., 0., 0., ..., 0., 0., 0.],\n         [1., 0., 0., ..., 0., 0., 0.],\n         ...,\n         [1., 0., 0., ..., 0., 0., 0.],\n         [1., 0., 0., ..., 0., 0., 0.],\n         [1., 0., 0., ..., 0., 0., 0.]],\n\n        [[0., 1., 0., ..., 0., 0., 0.],\n         [1., 0., 0., ..., 0., 0., 0.],\n         [1., 0., 0., ..., 0., 0., 0.],\n         ...,\n         [1., 0., 0., ..., 0., 0., 0.],\n         [1., 0., 0., ..., 0., 0., 0.],\n         [1., 0., 0., ..., 0., 0., 0.]],\n\n        [[0., 1., 0., ..., 0., 0., 0.],\n         [1., 0., 0., ..., 0., 0., 0.],\n         [1., 0., 0., ..., 0., 0., 0.],\n         ...,\n         [1., 0., 0., ..., 0., 0., 0.],\n         [1., 0., 0., ..., 0., 0., 0.],\n         [1., 0., 0., ..., 0., 0., 0.]]],\n\n\n       ...,\n\n\n       [[[1., 0., 0., ..., 0., 0., 0.],\n         [0., 1., 0., ..., 0., 0., 0.],\n         [1., 0., 0., ..., 0., 0., 0.],\n         ...,\n         [1., 0., 0., ..., 0., 0., 0.],\n         [1., 0., 0., ..., 0., 0., 0.],\n         [1., 0., 0., ..., 0., 0., 0.]],\n\n        [[0., 1., 0., ..., 0., 0., 0.],\n         [1., 0., 0., ..., 0., 0., 0.],\n         [1., 0., 0., ..., 0., 0., 0.],\n         ...,\n         [1., 0., 0., ..., 0., 0., 0.],\n         [1., 0., 0., ..., 0., 0., 0.],\n         [1., 0., 0., ..., 0., 0., 0.]],\n\n        [[0., 1., 0., ..., 0., 0., 0.],\n         [1., 0., 0., ..., 0., 0., 0.],\n         [1., 0., 0., ..., 0., 0., 0.],\n         ...,\n         [1., 0., 0., ..., 0., 0., 0.],\n         [1., 0., 0., ..., 0., 0., 0.],\n         [1., 0., 0., ..., 0., 0., 0.]],\n\n        ...,\n\n        [[0., 1., 0., ..., 0., 0., 0.],\n         [1., 0., 0., ..., 0., 0., 0.],\n         [1., 0., 0., ..., 0., 0., 0.],\n         ...,\n         [1., 0., 0., ..., 0., 0., 0.],\n         [1., 0., 0., ..., 0., 0., 0.],\n         [1., 0., 0., ..., 0., 0., 0.]],\n\n        [[0., 1., 0., ..., 0., 0., 0.],\n         [1., 0., 0., ..., 0., 0., 0.],\n         [1., 0., 0., ..., 0., 0., 0.],\n         ...,\n         [1., 0., 0., ..., 0., 0., 0.],\n         [1., 0., 0., ..., 0., 0., 0.],\n         [1., 0., 0., ..., 0., 0., 0.]],\n\n        [[0., 1., 0., ..., 0., 0., 0.],\n         [1., 0., 0., ..., 0., 0., 0.],\n         [1., 0., 0., ..., 0., 0., 0.],\n         ...,\n         [1., 0., 0., ..., 0., 0., 0.],\n         [1., 0., 0., ..., 0., 0., 0.],\n         [1., 0., 0., ..., 0., 0., 0.]]],\n\n\n       [[[0., 1., 0., ..., 0., 0., 0.],\n         [1., 0., 0., ..., 0., 0., 0.],\n         [1., 0., 0., ..., 0., 0., 0.],\n         ...,\n         [1., 0., 0., ..., 0., 0., 0.],\n         [1., 0., 0., ..., 0., 0., 0.],\n         [1., 0., 0., ..., 0., 0., 0.]],\n\n        [[0., 1., 0., ..., 0., 0., 0.],\n         [1., 0., 0., ..., 0., 0., 0.],\n         [1., 0., 0., ..., 0., 0., 0.],\n         ...,\n         [1., 0., 0., ..., 0., 0., 0.],\n         [1., 0., 0., ..., 0., 0., 0.],\n         [1., 0., 0., ..., 0., 0., 0.]],\n\n        [[0., 1., 0., ..., 0., 0., 0.],\n         [1., 0., 0., ..., 0., 0., 0.],\n         [1., 0., 0., ..., 0., 0., 0.],\n         ...,\n         [1., 0., 0., ..., 0., 0., 0.],\n         [1., 0., 0., ..., 0., 0., 0.],\n         [1., 0., 0., ..., 0., 0., 0.]],\n\n        ...,\n\n        [[0., 1., 0., ..., 0., 0., 0.],\n         [1., 0., 0., ..., 0., 0., 0.],\n         [1., 0., 0., ..., 0., 0., 0.],\n         ...,\n         [1., 0., 0., ..., 0., 0., 0.],\n         [1., 0., 0., ..., 0., 0., 0.],\n         [1., 0., 0., ..., 0., 0., 0.]],\n\n        [[1., 0., 0., ..., 0., 0., 0.],\n         [0., 1., 0., ..., 0., 0., 0.],\n         [1., 0., 0., ..., 0., 0., 0.],\n         ...,\n         [1., 0., 0., ..., 0., 0., 0.],\n         [1., 0., 0., ..., 0., 0., 0.],\n         [1., 0., 0., ..., 0., 0., 0.]],\n\n        [[0., 1., 0., ..., 0., 0., 0.],\n         [1., 0., 0., ..., 0., 0., 0.],\n         [1., 0., 0., ..., 0., 0., 0.],\n         ...,\n         [1., 0., 0., ..., 0., 0., 0.],\n         [1., 0., 0., ..., 0., 0., 0.],\n         [1., 0., 0., ..., 0., 0., 0.]]],\n\n\n       [[[0., 1., 0., ..., 0., 0., 0.],\n         [1., 0., 0., ..., 0., 0., 0.],\n         [1., 0., 0., ..., 0., 0., 0.],\n         ...,\n         [1., 0., 0., ..., 0., 0., 0.],\n         [1., 0., 0., ..., 0., 0., 0.],\n         [1., 0., 0., ..., 0., 0., 0.]],\n\n        [[0., 1., 0., ..., 0., 0., 0.],\n         [1., 0., 0., ..., 0., 0., 0.],\n         [1., 0., 0., ..., 0., 0., 0.],\n         ...,\n         [1., 0., 0., ..., 0., 0., 0.],\n         [1., 0., 0., ..., 0., 0., 0.],\n         [1., 0., 0., ..., 0., 0., 0.]],\n\n        [[1., 0., 0., ..., 0., 0., 0.],\n         [0., 1., 0., ..., 0., 0., 0.],\n         [1., 0., 0., ..., 0., 0., 0.],\n         ...,\n         [1., 0., 0., ..., 0., 0., 0.],\n         [1., 0., 0., ..., 0., 0., 0.],\n         [1., 0., 0., ..., 0., 0., 0.]],\n\n        ...,\n\n        [[0., 1., 0., ..., 0., 0., 0.],\n         [1., 0., 0., ..., 0., 0., 0.],\n         [1., 0., 0., ..., 0., 0., 0.],\n         ...,\n         [1., 0., 0., ..., 0., 0., 0.],\n         [1., 0., 0., ..., 0., 0., 0.],\n         [1., 0., 0., ..., 0., 0., 0.]],\n\n        [[0., 1., 0., ..., 0., 0., 0.],\n         [1., 0., 0., ..., 0., 0., 0.],\n         [1., 0., 0., ..., 0., 0., 0.],\n         ...,\n         [1., 0., 0., ..., 0., 0., 0.],\n         [1., 0., 0., ..., 0., 0., 0.],\n         [1., 0., 0., ..., 0., 0., 0.]],\n\n        [[0., 1., 0., ..., 0., 0., 0.],\n         [1., 0., 0., ..., 0., 0., 0.],\n         [1., 0., 0., ..., 0., 0., 0.],\n         ...,\n         [1., 0., 0., ..., 0., 0., 0.],\n         [1., 0., 0., ..., 0., 0., 0.],\n         [1., 0., 0., ..., 0., 0., 0.]]]], dtype=float32),)",
     "output_type": "error",
     "traceback": [
      "\u001b[1;31m---------------------------------------------------------------------------\u001b[0m",
      "\u001b[1;31mValueError\u001b[0m                                Traceback (most recent call last)",
      "Cell \u001b[1;32mIn[75], line 3\u001b[0m\n\u001b[0;32m      1\u001b[0m \u001b[38;5;28;01mfrom\u001b[39;00m \u001b[38;5;21;01msklearn\u001b[39;00m\u001b[38;5;21;01m.\u001b[39;00m\u001b[38;5;21;01mpreprocessing\u001b[39;00m \u001b[38;5;28;01mimport\u001b[39;00m LabelBinarizer \n\u001b[0;32m      2\u001b[0m label_as_binary \u001b[38;5;241m=\u001b[39m LabelBinarizer() \n\u001b[1;32m----> 3\u001b[0m train__y_labels \u001b[38;5;241m=\u001b[39m \u001b[43mlabel_as_binary\u001b[49m\u001b[38;5;241;43m.\u001b[39;49m\u001b[43mfit_transform\u001b[49m\u001b[43m(\u001b[49m\u001b[43my_train\u001b[49m\u001b[43m)\u001b[49m\n",
      "File \u001b[1;32m~\\anaconda3\\envs\\notebook\\lib\\site-packages\\sklearn\\preprocessing\\_label.py:329\u001b[0m, in \u001b[0;36mLabelBinarizer.fit_transform\u001b[1;34m(self, y)\u001b[0m\n\u001b[0;32m    309\u001b[0m \u001b[38;5;28;01mdef\u001b[39;00m \u001b[38;5;21mfit_transform\u001b[39m(\u001b[38;5;28mself\u001b[39m, y):\n\u001b[0;32m    310\u001b[0m \u001b[38;5;250m    \u001b[39m\u001b[38;5;124;03m\"\"\"Fit label binarizer/transform multi-class labels to binary labels.\u001b[39;00m\n\u001b[0;32m    311\u001b[0m \n\u001b[0;32m    312\u001b[0m \u001b[38;5;124;03m    The output of transform is sometimes referred to as\u001b[39;00m\n\u001b[1;32m   (...)\u001b[0m\n\u001b[0;32m    327\u001b[0m \u001b[38;5;124;03m        will be of CSR format.\u001b[39;00m\n\u001b[0;32m    328\u001b[0m \u001b[38;5;124;03m    \"\"\"\u001b[39;00m\n\u001b[1;32m--> 329\u001b[0m     \u001b[38;5;28;01mreturn\u001b[39;00m \u001b[38;5;28;43mself\u001b[39;49m\u001b[38;5;241;43m.\u001b[39;49m\u001b[43mfit\u001b[49m\u001b[43m(\u001b[49m\u001b[43my\u001b[49m\u001b[43m)\u001b[49m\u001b[38;5;241m.\u001b[39mtransform(y)\n",
      "File \u001b[1;32m~\\anaconda3\\envs\\notebook\\lib\\site-packages\\sklearn\\base.py:1152\u001b[0m, in \u001b[0;36m_fit_context.<locals>.decorator.<locals>.wrapper\u001b[1;34m(estimator, *args, **kwargs)\u001b[0m\n\u001b[0;32m   1145\u001b[0m     estimator\u001b[38;5;241m.\u001b[39m_validate_params()\n\u001b[0;32m   1147\u001b[0m \u001b[38;5;28;01mwith\u001b[39;00m config_context(\n\u001b[0;32m   1148\u001b[0m     skip_parameter_validation\u001b[38;5;241m=\u001b[39m(\n\u001b[0;32m   1149\u001b[0m         prefer_skip_nested_validation \u001b[38;5;129;01mor\u001b[39;00m global_skip_validation\n\u001b[0;32m   1150\u001b[0m     )\n\u001b[0;32m   1151\u001b[0m ):\n\u001b[1;32m-> 1152\u001b[0m     \u001b[38;5;28;01mreturn\u001b[39;00m fit_method(estimator, \u001b[38;5;241m*\u001b[39margs, \u001b[38;5;241m*\u001b[39m\u001b[38;5;241m*\u001b[39mkwargs)\n",
      "File \u001b[1;32m~\\anaconda3\\envs\\notebook\\lib\\site-packages\\sklearn\\preprocessing\\_label.py:306\u001b[0m, in \u001b[0;36mLabelBinarizer.fit\u001b[1;34m(self, y)\u001b[0m\n\u001b[0;32m    303\u001b[0m     \u001b[38;5;28;01mraise\u001b[39;00m \u001b[38;5;167;01mValueError\u001b[39;00m(\u001b[38;5;124m\"\u001b[39m\u001b[38;5;124my has 0 samples: \u001b[39m\u001b[38;5;132;01m%r\u001b[39;00m\u001b[38;5;124m\"\u001b[39m \u001b[38;5;241m%\u001b[39m y)\n\u001b[0;32m    305\u001b[0m \u001b[38;5;28mself\u001b[39m\u001b[38;5;241m.\u001b[39msparse_input_ \u001b[38;5;241m=\u001b[39m sp\u001b[38;5;241m.\u001b[39missparse(y)\n\u001b[1;32m--> 306\u001b[0m \u001b[38;5;28mself\u001b[39m\u001b[38;5;241m.\u001b[39mclasses_ \u001b[38;5;241m=\u001b[39m \u001b[43munique_labels\u001b[49m\u001b[43m(\u001b[49m\u001b[43my\u001b[49m\u001b[43m)\u001b[49m\n\u001b[0;32m    307\u001b[0m \u001b[38;5;28;01mreturn\u001b[39;00m \u001b[38;5;28mself\u001b[39m\n",
      "File \u001b[1;32m~\\anaconda3\\envs\\notebook\\lib\\site-packages\\sklearn\\utils\\multiclass.py:105\u001b[0m, in \u001b[0;36munique_labels\u001b[1;34m(*ys)\u001b[0m\n\u001b[0;32m    103\u001b[0m _unique_labels \u001b[38;5;241m=\u001b[39m _FN_UNIQUE_LABELS\u001b[38;5;241m.\u001b[39mget(label_type, \u001b[38;5;28;01mNone\u001b[39;00m)\n\u001b[0;32m    104\u001b[0m \u001b[38;5;28;01mif\u001b[39;00m \u001b[38;5;129;01mnot\u001b[39;00m _unique_labels:\n\u001b[1;32m--> 105\u001b[0m     \u001b[38;5;28;01mraise\u001b[39;00m \u001b[38;5;167;01mValueError\u001b[39;00m(\u001b[38;5;124m\"\u001b[39m\u001b[38;5;124mUnknown label type: \u001b[39m\u001b[38;5;132;01m%s\u001b[39;00m\u001b[38;5;124m\"\u001b[39m \u001b[38;5;241m%\u001b[39m \u001b[38;5;28mrepr\u001b[39m(ys))\n\u001b[0;32m    107\u001b[0m \u001b[38;5;28;01mif\u001b[39;00m is_array_api_compliant:\n\u001b[0;32m    108\u001b[0m     \u001b[38;5;66;03m# array_api does not allow for mixed dtypes\u001b[39;00m\n\u001b[0;32m    109\u001b[0m     unique_ys \u001b[38;5;241m=\u001b[39m xp\u001b[38;5;241m.\u001b[39mconcat([_unique_labels(y) \u001b[38;5;28;01mfor\u001b[39;00m y \u001b[38;5;129;01min\u001b[39;00m ys])\n",
      "\u001b[1;31mValueError\u001b[0m: Unknown label type: (array([[[[1., 0., 0., ..., 0., 0., 0.],\n         [0., 1., 0., ..., 0., 0., 0.],\n         [1., 0., 0., ..., 0., 0., 0.],\n         ...,\n         [1., 0., 0., ..., 0., 0., 0.],\n         [1., 0., 0., ..., 0., 0., 0.],\n         [1., 0., 0., ..., 0., 0., 0.]],\n\n        [[0., 1., 0., ..., 0., 0., 0.],\n         [1., 0., 0., ..., 0., 0., 0.],\n         [1., 0., 0., ..., 0., 0., 0.],\n         ...,\n         [1., 0., 0., ..., 0., 0., 0.],\n         [1., 0., 0., ..., 0., 0., 0.],\n         [1., 0., 0., ..., 0., 0., 0.]],\n\n        [[0., 1., 0., ..., 0., 0., 0.],\n         [1., 0., 0., ..., 0., 0., 0.],\n         [1., 0., 0., ..., 0., 0., 0.],\n         ...,\n         [1., 0., 0., ..., 0., 0., 0.],\n         [1., 0., 0., ..., 0., 0., 0.],\n         [1., 0., 0., ..., 0., 0., 0.]],\n\n        ...,\n\n        [[0., 1., 0., ..., 0., 0., 0.],\n         [1., 0., 0., ..., 0., 0., 0.],\n         [1., 0., 0., ..., 0., 0., 0.],\n         ...,\n         [1., 0., 0., ..., 0., 0., 0.],\n         [1., 0., 0., ..., 0., 0., 0.],\n         [1., 0., 0., ..., 0., 0., 0.]],\n\n        [[0., 1., 0., ..., 0., 0., 0.],\n         [1., 0., 0., ..., 0., 0., 0.],\n         [1., 0., 0., ..., 0., 0., 0.],\n         ...,\n         [1., 0., 0., ..., 0., 0., 0.],\n         [1., 0., 0., ..., 0., 0., 0.],\n         [1., 0., 0., ..., 0., 0., 0.]],\n\n        [[0., 1., 0., ..., 0., 0., 0.],\n         [1., 0., 0., ..., 0., 0., 0.],\n         [1., 0., 0., ..., 0., 0., 0.],\n         ...,\n         [1., 0., 0., ..., 0., 0., 0.],\n         [1., 0., 0., ..., 0., 0., 0.],\n         [1., 0., 0., ..., 0., 0., 0.]]],\n\n\n       [[[0., 1., 0., ..., 0., 0., 0.],\n         [1., 0., 0., ..., 0., 0., 0.],\n         [1., 0., 0., ..., 0., 0., 0.],\n         ...,\n         [1., 0., 0., ..., 0., 0., 0.],\n         [1., 0., 0., ..., 0., 0., 0.],\n         [1., 0., 0., ..., 0., 0., 0.]],\n\n        [[0., 1., 0., ..., 0., 0., 0.],\n         [1., 0., 0., ..., 0., 0., 0.],\n         [1., 0., 0., ..., 0., 0., 0.],\n         ...,\n         [1., 0., 0., ..., 0., 0., 0.],\n         [1., 0., 0., ..., 0., 0., 0.],\n         [1., 0., 0., ..., 0., 0., 0.]],\n\n        [[0., 1., 0., ..., 0., 0., 0.],\n         [1., 0., 0., ..., 0., 0., 0.],\n         [1., 0., 0., ..., 0., 0., 0.],\n         ...,\n         [1., 0., 0., ..., 0., 0., 0.],\n         [1., 0., 0., ..., 0., 0., 0.],\n         [1., 0., 0., ..., 0., 0., 0.]],\n\n        ...,\n\n        [[0., 1., 0., ..., 0., 0., 0.],\n         [1., 0., 0., ..., 0., 0., 0.],\n         [1., 0., 0., ..., 0., 0., 0.],\n         ...,\n         [1., 0., 0., ..., 0., 0., 0.],\n         [1., 0., 0., ..., 0., 0., 0.],\n         [1., 0., 0., ..., 0., 0., 0.]],\n\n        [[1., 0., 0., ..., 0., 0., 0.],\n         [0., 1., 0., ..., 0., 0., 0.],\n         [1., 0., 0., ..., 0., 0., 0.],\n         ...,\n         [1., 0., 0., ..., 0., 0., 0.],\n         [1., 0., 0., ..., 0., 0., 0.],\n         [1., 0., 0., ..., 0., 0., 0.]],\n\n        [[0., 1., 0., ..., 0., 0., 0.],\n         [1., 0., 0., ..., 0., 0., 0.],\n         [1., 0., 0., ..., 0., 0., 0.],\n         ...,\n         [1., 0., 0., ..., 0., 0., 0.],\n         [1., 0., 0., ..., 0., 0., 0.],\n         [1., 0., 0., ..., 0., 0., 0.]]],\n\n\n       [[[0., 1., 0., ..., 0., 0., 0.],\n         [1., 0., 0., ..., 0., 0., 0.],\n         [1., 0., 0., ..., 0., 0., 0.],\n         ...,\n         [1., 0., 0., ..., 0., 0., 0.],\n         [1., 0., 0., ..., 0., 0., 0.],\n         [1., 0., 0., ..., 0., 0., 0.]],\n\n        [[0., 1., 0., ..., 0., 0., 0.],\n         [1., 0., 0., ..., 0., 0., 0.],\n         [1., 0., 0., ..., 0., 0., 0.],\n         ...,\n         [1., 0., 0., ..., 0., 0., 0.],\n         [1., 0., 0., ..., 0., 0., 0.],\n         [1., 0., 0., ..., 0., 0., 0.]],\n\n        [[0., 1., 0., ..., 0., 0., 0.],\n         [1., 0., 0., ..., 0., 0., 0.],\n         [1., 0., 0., ..., 0., 0., 0.],\n         ...,\n         [1., 0., 0., ..., 0., 0., 0.],\n         [1., 0., 0., ..., 0., 0., 0.],\n         [1., 0., 0., ..., 0., 0., 0.]],\n\n        ...,\n\n        [[0., 1., 0., ..., 0., 0., 0.],\n         [1., 0., 0., ..., 0., 0., 0.],\n         [1., 0., 0., ..., 0., 0., 0.],\n         ...,\n         [1., 0., 0., ..., 0., 0., 0.],\n         [1., 0., 0., ..., 0., 0., 0.],\n         [1., 0., 0., ..., 0., 0., 0.]],\n\n        [[0., 1., 0., ..., 0., 0., 0.],\n         [1., 0., 0., ..., 0., 0., 0.],\n         [1., 0., 0., ..., 0., 0., 0.],\n         ...,\n         [1., 0., 0., ..., 0., 0., 0.],\n         [1., 0., 0., ..., 0., 0., 0.],\n         [1., 0., 0., ..., 0., 0., 0.]],\n\n        [[0., 1., 0., ..., 0., 0., 0.],\n         [1., 0., 0., ..., 0., 0., 0.],\n         [1., 0., 0., ..., 0., 0., 0.],\n         ...,\n         [1., 0., 0., ..., 0., 0., 0.],\n         [1., 0., 0., ..., 0., 0., 0.],\n         [1., 0., 0., ..., 0., 0., 0.]]],\n\n\n       ...,\n\n\n       [[[1., 0., 0., ..., 0., 0., 0.],\n         [0., 1., 0., ..., 0., 0., 0.],\n         [1., 0., 0., ..., 0., 0., 0.],\n         ...,\n         [1., 0., 0., ..., 0., 0., 0.],\n         [1., 0., 0., ..., 0., 0., 0.],\n         [1., 0., 0., ..., 0., 0., 0.]],\n\n        [[0., 1., 0., ..., 0., 0., 0.],\n         [1., 0., 0., ..., 0., 0., 0.],\n         [1., 0., 0., ..., 0., 0., 0.],\n         ...,\n         [1., 0., 0., ..., 0., 0., 0.],\n         [1., 0., 0., ..., 0., 0., 0.],\n         [1., 0., 0., ..., 0., 0., 0.]],\n\n        [[0., 1., 0., ..., 0., 0., 0.],\n         [1., 0., 0., ..., 0., 0., 0.],\n         [1., 0., 0., ..., 0., 0., 0.],\n         ...,\n         [1., 0., 0., ..., 0., 0., 0.],\n         [1., 0., 0., ..., 0., 0., 0.],\n         [1., 0., 0., ..., 0., 0., 0.]],\n\n        ...,\n\n        [[0., 1., 0., ..., 0., 0., 0.],\n         [1., 0., 0., ..., 0., 0., 0.],\n         [1., 0., 0., ..., 0., 0., 0.],\n         ...,\n         [1., 0., 0., ..., 0., 0., 0.],\n         [1., 0., 0., ..., 0., 0., 0.],\n         [1., 0., 0., ..., 0., 0., 0.]],\n\n        [[0., 1., 0., ..., 0., 0., 0.],\n         [1., 0., 0., ..., 0., 0., 0.],\n         [1., 0., 0., ..., 0., 0., 0.],\n         ...,\n         [1., 0., 0., ..., 0., 0., 0.],\n         [1., 0., 0., ..., 0., 0., 0.],\n         [1., 0., 0., ..., 0., 0., 0.]],\n\n        [[0., 1., 0., ..., 0., 0., 0.],\n         [1., 0., 0., ..., 0., 0., 0.],\n         [1., 0., 0., ..., 0., 0., 0.],\n         ...,\n         [1., 0., 0., ..., 0., 0., 0.],\n         [1., 0., 0., ..., 0., 0., 0.],\n         [1., 0., 0., ..., 0., 0., 0.]]],\n\n\n       [[[0., 1., 0., ..., 0., 0., 0.],\n         [1., 0., 0., ..., 0., 0., 0.],\n         [1., 0., 0., ..., 0., 0., 0.],\n         ...,\n         [1., 0., 0., ..., 0., 0., 0.],\n         [1., 0., 0., ..., 0., 0., 0.],\n         [1., 0., 0., ..., 0., 0., 0.]],\n\n        [[0., 1., 0., ..., 0., 0., 0.],\n         [1., 0., 0., ..., 0., 0., 0.],\n         [1., 0., 0., ..., 0., 0., 0.],\n         ...,\n         [1., 0., 0., ..., 0., 0., 0.],\n         [1., 0., 0., ..., 0., 0., 0.],\n         [1., 0., 0., ..., 0., 0., 0.]],\n\n        [[0., 1., 0., ..., 0., 0., 0.],\n         [1., 0., 0., ..., 0., 0., 0.],\n         [1., 0., 0., ..., 0., 0., 0.],\n         ...,\n         [1., 0., 0., ..., 0., 0., 0.],\n         [1., 0., 0., ..., 0., 0., 0.],\n         [1., 0., 0., ..., 0., 0., 0.]],\n\n        ...,\n\n        [[0., 1., 0., ..., 0., 0., 0.],\n         [1., 0., 0., ..., 0., 0., 0.],\n         [1., 0., 0., ..., 0., 0., 0.],\n         ...,\n         [1., 0., 0., ..., 0., 0., 0.],\n         [1., 0., 0., ..., 0., 0., 0.],\n         [1., 0., 0., ..., 0., 0., 0.]],\n\n        [[1., 0., 0., ..., 0., 0., 0.],\n         [0., 1., 0., ..., 0., 0., 0.],\n         [1., 0., 0., ..., 0., 0., 0.],\n         ...,\n         [1., 0., 0., ..., 0., 0., 0.],\n         [1., 0., 0., ..., 0., 0., 0.],\n         [1., 0., 0., ..., 0., 0., 0.]],\n\n        [[0., 1., 0., ..., 0., 0., 0.],\n         [1., 0., 0., ..., 0., 0., 0.],\n         [1., 0., 0., ..., 0., 0., 0.],\n         ...,\n         [1., 0., 0., ..., 0., 0., 0.],\n         [1., 0., 0., ..., 0., 0., 0.],\n         [1., 0., 0., ..., 0., 0., 0.]]],\n\n\n       [[[0., 1., 0., ..., 0., 0., 0.],\n         [1., 0., 0., ..., 0., 0., 0.],\n         [1., 0., 0., ..., 0., 0., 0.],\n         ...,\n         [1., 0., 0., ..., 0., 0., 0.],\n         [1., 0., 0., ..., 0., 0., 0.],\n         [1., 0., 0., ..., 0., 0., 0.]],\n\n        [[0., 1., 0., ..., 0., 0., 0.],\n         [1., 0., 0., ..., 0., 0., 0.],\n         [1., 0., 0., ..., 0., 0., 0.],\n         ...,\n         [1., 0., 0., ..., 0., 0., 0.],\n         [1., 0., 0., ..., 0., 0., 0.],\n         [1., 0., 0., ..., 0., 0., 0.]],\n\n        [[1., 0., 0., ..., 0., 0., 0.],\n         [0., 1., 0., ..., 0., 0., 0.],\n         [1., 0., 0., ..., 0., 0., 0.],\n         ...,\n         [1., 0., 0., ..., 0., 0., 0.],\n         [1., 0., 0., ..., 0., 0., 0.],\n         [1., 0., 0., ..., 0., 0., 0.]],\n\n        ...,\n\n        [[0., 1., 0., ..., 0., 0., 0.],\n         [1., 0., 0., ..., 0., 0., 0.],\n         [1., 0., 0., ..., 0., 0., 0.],\n         ...,\n         [1., 0., 0., ..., 0., 0., 0.],\n         [1., 0., 0., ..., 0., 0., 0.],\n         [1., 0., 0., ..., 0., 0., 0.]],\n\n        [[0., 1., 0., ..., 0., 0., 0.],\n         [1., 0., 0., ..., 0., 0., 0.],\n         [1., 0., 0., ..., 0., 0., 0.],\n         ...,\n         [1., 0., 0., ..., 0., 0., 0.],\n         [1., 0., 0., ..., 0., 0., 0.],\n         [1., 0., 0., ..., 0., 0., 0.]],\n\n        [[0., 1., 0., ..., 0., 0., 0.],\n         [1., 0., 0., ..., 0., 0., 0.],\n         [1., 0., 0., ..., 0., 0., 0.],\n         ...,\n         [1., 0., 0., ..., 0., 0., 0.],\n         [1., 0., 0., ..., 0., 0., 0.],\n         [1., 0., 0., ..., 0., 0., 0.]]]], dtype=float32),)"
     ]
    }
   ],
   "source": []
  },
  {
   "cell_type": "code",
   "execution_count": 71,
   "id": "58d9870c",
   "metadata": {},
   "outputs": [
    {
     "name": "stdout",
     "output_type": "stream",
     "text": [
      "Epoch 1/10\n"
     ]
    },
    {
     "ename": "ValueError",
     "evalue": "Shapes (None, None, None, None) and (None, 10) are incompatible",
     "output_type": "error",
     "traceback": [
      "\u001b[1;31m---------------------------------------------------------------------------\u001b[0m",
      "\u001b[1;31mValueError\u001b[0m                                Traceback (most recent call last)",
      "Cell \u001b[1;32mIn[71], line 2\u001b[0m\n\u001b[0;32m      1\u001b[0m \u001b[38;5;66;03m#from tensorflow.keras.optimizers import model\u001b[39;00m\n\u001b[1;32m----> 2\u001b[0m history \u001b[38;5;241m=\u001b[39m \u001b[43mmodel\u001b[49m\u001b[38;5;241;43m.\u001b[39;49m\u001b[43mfit\u001b[49m\u001b[43m(\u001b[49m\u001b[43mdatagen\u001b[49m\u001b[38;5;241;43m.\u001b[39;49m\u001b[43mflow\u001b[49m\u001b[43m(\u001b[49m\u001b[43mx_train\u001b[49m\u001b[43m,\u001b[49m\u001b[43my_train\u001b[49m\u001b[43m,\u001b[49m\u001b[43m \u001b[49m\u001b[43mbatch_size\u001b[49m\u001b[38;5;241;43m=\u001b[39;49m\u001b[43mbatch_size\u001b[49m\u001b[43m)\u001b[49m\u001b[43m,\u001b[49m\n\u001b[0;32m      3\u001b[0m \u001b[43m                              \u001b[49m\u001b[43mepochs\u001b[49m\u001b[43m \u001b[49m\u001b[38;5;241;43m=\u001b[39;49m\u001b[43m \u001b[49m\u001b[43mepochs\u001b[49m\u001b[43m,\u001b[49m\u001b[43m \u001b[49m\u001b[43mvalidation_data\u001b[49m\u001b[43m \u001b[49m\u001b[38;5;241;43m=\u001b[39;49m\u001b[43m \u001b[49m\u001b[43m(\u001b[49m\u001b[43mx_val\u001b[49m\u001b[43m,\u001b[49m\u001b[43my_val\u001b[49m\u001b[43m)\u001b[49m\u001b[43m,\u001b[49m\u001b[43m \u001b[49m\u001b[43msteps_per_epoch\u001b[49m\u001b[38;5;241;43m=\u001b[39;49m\u001b[43mx_train\u001b[49m\u001b[38;5;241;43m.\u001b[39;49m\u001b[43mshape\u001b[49m\u001b[43m[\u001b[49m\u001b[38;5;241;43m0\u001b[39;49m\u001b[43m]\u001b[49m\u001b[43m \u001b[49m\u001b[38;5;241;43m/\u001b[39;49m\u001b[38;5;241;43m/\u001b[39;49m\u001b[43m \u001b[49m\u001b[43mbatch_size\u001b[49m\u001b[43m)\u001b[49m\n",
      "File \u001b[1;32m~\\anaconda3\\envs\\notebook\\lib\\site-packages\\keras\\src\\utils\\traceback_utils.py:70\u001b[0m, in \u001b[0;36mfilter_traceback.<locals>.error_handler\u001b[1;34m(*args, **kwargs)\u001b[0m\n\u001b[0;32m     67\u001b[0m     filtered_tb \u001b[38;5;241m=\u001b[39m _process_traceback_frames(e\u001b[38;5;241m.\u001b[39m__traceback__)\n\u001b[0;32m     68\u001b[0m     \u001b[38;5;66;03m# To get the full stack trace, call:\u001b[39;00m\n\u001b[0;32m     69\u001b[0m     \u001b[38;5;66;03m# `tf.debugging.disable_traceback_filtering()`\u001b[39;00m\n\u001b[1;32m---> 70\u001b[0m     \u001b[38;5;28;01mraise\u001b[39;00m e\u001b[38;5;241m.\u001b[39mwith_traceback(filtered_tb) \u001b[38;5;28;01mfrom\u001b[39;00m \u001b[38;5;28;01mNone\u001b[39;00m\n\u001b[0;32m     71\u001b[0m \u001b[38;5;28;01mfinally\u001b[39;00m:\n\u001b[0;32m     72\u001b[0m     \u001b[38;5;28;01mdel\u001b[39;00m filtered_tb\n",
      "File \u001b[1;32m~\\anaconda3\\envs\\notebook\\lib\\site-packages\\keras\\src\\backend.py:5573\u001b[0m, in \u001b[0;36mcategorical_crossentropy\u001b[1;34m(target, output, from_logits, axis)\u001b[0m\n\u001b[0;32m   5571\u001b[0m target \u001b[38;5;241m=\u001b[39m tf\u001b[38;5;241m.\u001b[39mconvert_to_tensor(target)\n\u001b[0;32m   5572\u001b[0m output \u001b[38;5;241m=\u001b[39m tf\u001b[38;5;241m.\u001b[39mconvert_to_tensor(output)\n\u001b[1;32m-> 5573\u001b[0m \u001b[43mtarget\u001b[49m\u001b[38;5;241;43m.\u001b[39;49m\u001b[43mshape\u001b[49m\u001b[38;5;241;43m.\u001b[39;49m\u001b[43massert_is_compatible_with\u001b[49m\u001b[43m(\u001b[49m\u001b[43moutput\u001b[49m\u001b[38;5;241;43m.\u001b[39;49m\u001b[43mshape\u001b[49m\u001b[43m)\u001b[49m\n\u001b[0;32m   5575\u001b[0m output, from_logits \u001b[38;5;241m=\u001b[39m _get_logits(\n\u001b[0;32m   5576\u001b[0m     output, from_logits, \u001b[38;5;124m\"\u001b[39m\u001b[38;5;124mSoftmax\u001b[39m\u001b[38;5;124m\"\u001b[39m, \u001b[38;5;124m\"\u001b[39m\u001b[38;5;124mcategorical_crossentropy\u001b[39m\u001b[38;5;124m\"\u001b[39m\n\u001b[0;32m   5577\u001b[0m )\n\u001b[0;32m   5578\u001b[0m \u001b[38;5;28;01mif\u001b[39;00m from_logits:\n",
      "\u001b[1;31mValueError\u001b[0m: Shapes (None, None, None, None) and (None, 10) are incompatible"
     ]
    }
   ],
   "source": [
    "#from tensorflow.keras.optimizers import model\n",
    "#history = model.fit(datagen.flow(x_train,y_train, batch_size=batch_size),\n",
    "                        #      epochs = epochs, validation_data = (x_val,y_val), steps_per_epoch=x_train.shape[0] // batch_size)"
   ]
  },
  {
   "cell_type": "code",
   "execution_count": 81,
   "id": "4e7f1713",
   "metadata": {},
   "outputs": [
    {
     "name": "stdout",
     "output_type": "stream",
     "text": [
      "Epoch 1/10\n"
     ]
    },
    {
     "ename": "ValueError",
     "evalue": "Shapes (None, None, None, None) and (None, 10) are incompatible",
     "output_type": "error",
     "traceback": [
      "\u001b[1;31m---------------------------------------------------------------------------\u001b[0m",
      "\u001b[1;31mValueError\u001b[0m                                Traceback (most recent call last)",
      "Cell \u001b[1;32mIn[81], line 5\u001b[0m\n\u001b[0;32m      1\u001b[0m \u001b[38;5;66;03m#from tensorflow.keras.utils import to_categorical\u001b[39;00m\n\u001b[0;32m      2\u001b[0m \u001b[38;5;66;03m# y_train_one_hot = to_categorical(y_train, num_classes)\u001b[39;00m\n\u001b[0;32m      3\u001b[0m \u001b[38;5;66;03m# y_val_one_hot = to_categorical(y_val, num_classes)\u001b[39;00m\n\u001b[1;32m----> 5\u001b[0m history \u001b[38;5;241m=\u001b[39m \u001b[43mmodel\u001b[49m\u001b[38;5;241;43m.\u001b[39;49m\u001b[43mfit\u001b[49m\u001b[43m(\u001b[49m\n\u001b[0;32m      6\u001b[0m \u001b[43m    \u001b[49m\u001b[43mdatagen\u001b[49m\u001b[38;5;241;43m.\u001b[39;49m\u001b[43mflow\u001b[49m\u001b[43m(\u001b[49m\u001b[43mx_train\u001b[49m\u001b[43m,\u001b[49m\u001b[43m \u001b[49m\u001b[43my_train\u001b[49m\u001b[43m,\u001b[49m\u001b[43m \u001b[49m\u001b[43mbatch_size\u001b[49m\u001b[38;5;241;43m=\u001b[39;49m\u001b[43mbatch_size\u001b[49m\u001b[43m)\u001b[49m\u001b[43m,\u001b[49m\n\u001b[0;32m      7\u001b[0m \u001b[43m    \u001b[49m\u001b[43mepochs\u001b[49m\u001b[38;5;241;43m=\u001b[39;49m\u001b[43mepochs\u001b[49m\u001b[43m,\u001b[49m\n\u001b[0;32m      8\u001b[0m \u001b[43m    \u001b[49m\u001b[43mvalidation_data\u001b[49m\u001b[38;5;241;43m=\u001b[39;49m\u001b[43m(\u001b[49m\u001b[43mx_val\u001b[49m\u001b[43m,\u001b[49m\u001b[43m \u001b[49m\u001b[43my_val\u001b[49m\u001b[43m)\u001b[49m\u001b[43m,\u001b[49m\n\u001b[0;32m      9\u001b[0m \u001b[43m    \u001b[49m\u001b[43msteps_per_epoch\u001b[49m\u001b[38;5;241;43m=\u001b[39;49m\u001b[43mx_train\u001b[49m\u001b[38;5;241;43m.\u001b[39;49m\u001b[43mshape\u001b[49m\u001b[43m[\u001b[49m\u001b[38;5;241;43m0\u001b[39;49m\u001b[43m]\u001b[49m\u001b[43m \u001b[49m\u001b[38;5;241;43m/\u001b[39;49m\u001b[38;5;241;43m/\u001b[39;49m\u001b[43m \u001b[49m\u001b[43mbatch_size\u001b[49m\u001b[43m,\u001b[49m\n\u001b[0;32m     10\u001b[0m \u001b[43m)\u001b[49m\n",
      "File \u001b[1;32m~\\anaconda3\\envs\\notebook\\lib\\site-packages\\keras\\src\\utils\\traceback_utils.py:70\u001b[0m, in \u001b[0;36mfilter_traceback.<locals>.error_handler\u001b[1;34m(*args, **kwargs)\u001b[0m\n\u001b[0;32m     67\u001b[0m     filtered_tb \u001b[38;5;241m=\u001b[39m _process_traceback_frames(e\u001b[38;5;241m.\u001b[39m__traceback__)\n\u001b[0;32m     68\u001b[0m     \u001b[38;5;66;03m# To get the full stack trace, call:\u001b[39;00m\n\u001b[0;32m     69\u001b[0m     \u001b[38;5;66;03m# `tf.debugging.disable_traceback_filtering()`\u001b[39;00m\n\u001b[1;32m---> 70\u001b[0m     \u001b[38;5;28;01mraise\u001b[39;00m e\u001b[38;5;241m.\u001b[39mwith_traceback(filtered_tb) \u001b[38;5;28;01mfrom\u001b[39;00m \u001b[38;5;28;01mNone\u001b[39;00m\n\u001b[0;32m     71\u001b[0m \u001b[38;5;28;01mfinally\u001b[39;00m:\n\u001b[0;32m     72\u001b[0m     \u001b[38;5;28;01mdel\u001b[39;00m filtered_tb\n",
      "File \u001b[1;32m~\\anaconda3\\envs\\notebook\\lib\\site-packages\\keras\\src\\backend.py:5573\u001b[0m, in \u001b[0;36mcategorical_crossentropy\u001b[1;34m(target, output, from_logits, axis)\u001b[0m\n\u001b[0;32m   5571\u001b[0m target \u001b[38;5;241m=\u001b[39m tf\u001b[38;5;241m.\u001b[39mconvert_to_tensor(target)\n\u001b[0;32m   5572\u001b[0m output \u001b[38;5;241m=\u001b[39m tf\u001b[38;5;241m.\u001b[39mconvert_to_tensor(output)\n\u001b[1;32m-> 5573\u001b[0m \u001b[43mtarget\u001b[49m\u001b[38;5;241;43m.\u001b[39;49m\u001b[43mshape\u001b[49m\u001b[38;5;241;43m.\u001b[39;49m\u001b[43massert_is_compatible_with\u001b[49m\u001b[43m(\u001b[49m\u001b[43moutput\u001b[49m\u001b[38;5;241;43m.\u001b[39;49m\u001b[43mshape\u001b[49m\u001b[43m)\u001b[49m\n\u001b[0;32m   5575\u001b[0m output, from_logits \u001b[38;5;241m=\u001b[39m _get_logits(\n\u001b[0;32m   5576\u001b[0m     output, from_logits, \u001b[38;5;124m\"\u001b[39m\u001b[38;5;124mSoftmax\u001b[39m\u001b[38;5;124m\"\u001b[39m, \u001b[38;5;124m\"\u001b[39m\u001b[38;5;124mcategorical_crossentropy\u001b[39m\u001b[38;5;124m\"\u001b[39m\n\u001b[0;32m   5577\u001b[0m )\n\u001b[0;32m   5578\u001b[0m \u001b[38;5;28;01mif\u001b[39;00m from_logits:\n",
      "\u001b[1;31mValueError\u001b[0m: Shapes (None, None, None, None) and (None, 10) are incompatible"
     ]
    }
   ],
   "source": [
    "#from tensorflow.keras.utils import to_categorical\n",
    "# y_train_one_hot = to_categorical(y_train, num_classes)\n",
    "# y_val_one_hot = to_categorical(y_val, num_classes)\n",
    "\n",
    "history = model.fit(\n",
    "    datagen.flow(x_train, y_train, batch_size=batch_size),\n",
    "    epochs=epochs,\n",
    "    validation_data=(x_val, y_val),\n",
    "    steps_per_epoch=x_train.shape[0] // batch_size,\n",
    ")"
   ]
  },
  {
   "cell_type": "code",
   "execution_count": null,
   "id": "50889fbf",
   "metadata": {},
   "outputs": [],
   "source": []
  }
 ],
 "metadata": {
  "kernelspec": {
   "display_name": "Python 3 (ipykernel)",
   "language": "python",
   "name": "python3"
  },
  "language_info": {
   "codemirror_mode": {
    "name": "ipython",
    "version": 3
   },
   "file_extension": ".py",
   "mimetype": "text/x-python",
   "name": "python",
   "nbconvert_exporter": "python",
   "pygments_lexer": "ipython3",
   "version": "3.10.13"
  }
 },
 "nbformat": 4,
 "nbformat_minor": 5
}
